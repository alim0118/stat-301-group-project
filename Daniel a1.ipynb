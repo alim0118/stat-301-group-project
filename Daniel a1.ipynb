{
 "cells": [
  {
   "cell_type": "code",
   "execution_count": 2,
   "id": "ff7abbdb-e106-4e0a-83ff-38e0dba7d3bb",
   "metadata": {
    "tags": []
   },
   "outputs": [
    {
     "name": "stderr",
     "output_type": "stream",
     "text": [
      "── \u001b[1mAttaching core tidyverse packages\u001b[22m ──────────────────────── tidyverse 2.0.0 ──\n",
      "\u001b[32m✔\u001b[39m \u001b[34mdplyr    \u001b[39m 1.1.4     \u001b[32m✔\u001b[39m \u001b[34mreadr    \u001b[39m 2.1.4\n",
      "\u001b[32m✔\u001b[39m \u001b[34mforcats  \u001b[39m 1.0.0     \u001b[32m✔\u001b[39m \u001b[34mstringr  \u001b[39m 1.5.1\n",
      "\u001b[32m✔\u001b[39m \u001b[34mggplot2  \u001b[39m 3.4.4     \u001b[32m✔\u001b[39m \u001b[34mtibble   \u001b[39m 3.2.1\n",
      "\u001b[32m✔\u001b[39m \u001b[34mlubridate\u001b[39m 1.9.3     \u001b[32m✔\u001b[39m \u001b[34mtidyr    \u001b[39m 1.3.0\n",
      "\u001b[32m✔\u001b[39m \u001b[34mpurrr    \u001b[39m 1.0.2     \n",
      "── \u001b[1mConflicts\u001b[22m ────────────────────────────────────────── tidyverse_conflicts() ──\n",
      "\u001b[31m✖\u001b[39m \u001b[34mdplyr\u001b[39m::\u001b[32mfilter()\u001b[39m masks \u001b[34mstats\u001b[39m::filter()\n",
      "\u001b[31m✖\u001b[39m \u001b[34mdplyr\u001b[39m::\u001b[32mlag()\u001b[39m    masks \u001b[34mstats\u001b[39m::lag()\n",
      "\u001b[36mℹ\u001b[39m Use the conflicted package (\u001b[3m\u001b[34m<http://conflicted.r-lib.org/>\u001b[39m\u001b[23m) to force all conflicts to become errors\n",
      "\n",
      "Attaching package: ‘cowplot’\n",
      "\n",
      "\n",
      "The following object is masked from ‘package:lubridate’:\n",
      "\n",
      "    stamp\n",
      "\n",
      "\n",
      "\n",
      "************\n",
      "Welcome to faux. For support and examples visit:\n",
      "https://debruine.github.io/faux/\n",
      "- Get and set global package options with: faux_options()\n",
      "************\n",
      "\n"
     ]
    }
   ],
   "source": [
    "# Run this cell before continuing.\n",
    "library(tidyverse)\n",
    "library(repr)\n",
    "library(infer)\n",
    "library(cowplot)\n",
    "library(broom)\n",
    "library(faux)"
   ]
  },
  {
   "cell_type": "markdown",
   "id": "ccb552ac-69dc-4525-b02c-2fddc7e7d280",
   "metadata": {},
   "source": [
    "# Data"
   ]
  },
  {
   "cell_type": "code",
   "execution_count": 3,
   "id": "fc4047f8-9562-4927-a4c9-212df18ee025",
   "metadata": {
    "tags": []
   },
   "outputs": [
    {
     "name": "stderr",
     "output_type": "stream",
     "text": [
      "\u001b[1mRows: \u001b[22m\u001b[34m215029\u001b[39m \u001b[1mColumns: \u001b[22m\u001b[34m24\u001b[39m\n",
      "\u001b[36m──\u001b[39m \u001b[1mColumn specification\u001b[22m \u001b[36m────────────────────────────────────────────────────────\u001b[39m\n",
      "\u001b[1mDelimiter:\u001b[22m \",\"\n",
      "\u001b[31mchr\u001b[39m  (8): Name, Description, URL, Homepage, Language, License, Topics, Defau...\n",
      "\u001b[32mdbl\u001b[39m  (5): Size, Stars, Forks, Issues, Watchers\n",
      "\u001b[33mlgl\u001b[39m  (9): Has Issues, Has Projects, Has Downloads, Has Wiki, Has Pages, Has ...\n",
      "\u001b[34mdttm\u001b[39m (2): Created At, Updated At\n",
      "\n",
      "\u001b[36mℹ\u001b[39m Use `spec()` to retrieve the full column specification for this data.\n",
      "\u001b[36mℹ\u001b[39m Specify the column types or set `show_col_types = FALSE` to quiet this message.\n"
     ]
    },
    {
     "data": {
      "text/html": [
       "<table class=\"dataframe\">\n",
       "<caption>A tibble: 6 × 24</caption>\n",
       "<thead>\n",
       "\t<tr><th scope=col>Name</th><th scope=col>Description</th><th scope=col>URL</th><th scope=col>Created At</th><th scope=col>Updated At</th><th scope=col>Homepage</th><th scope=col>Size</th><th scope=col>Stars</th><th scope=col>Forks</th><th scope=col>Issues</th><th scope=col>⋯</th><th scope=col>Has Issues</th><th scope=col>Has Projects</th><th scope=col>Has Downloads</th><th scope=col>Has Wiki</th><th scope=col>Has Pages</th><th scope=col>Has Discussions</th><th scope=col>Is Fork</th><th scope=col>Is Archived</th><th scope=col>Is Template</th><th scope=col>Default Branch</th></tr>\n",
       "\t<tr><th scope=col>&lt;chr&gt;</th><th scope=col>&lt;chr&gt;</th><th scope=col>&lt;chr&gt;</th><th scope=col>&lt;dttm&gt;</th><th scope=col>&lt;dttm&gt;</th><th scope=col>&lt;chr&gt;</th><th scope=col>&lt;dbl&gt;</th><th scope=col>&lt;dbl&gt;</th><th scope=col>&lt;dbl&gt;</th><th scope=col>&lt;dbl&gt;</th><th scope=col>⋯</th><th scope=col>&lt;lgl&gt;</th><th scope=col>&lt;lgl&gt;</th><th scope=col>&lt;lgl&gt;</th><th scope=col>&lt;lgl&gt;</th><th scope=col>&lt;lgl&gt;</th><th scope=col>&lt;lgl&gt;</th><th scope=col>&lt;lgl&gt;</th><th scope=col>&lt;lgl&gt;</th><th scope=col>&lt;lgl&gt;</th><th scope=col>&lt;chr&gt;</th></tr>\n",
       "</thead>\n",
       "<tbody>\n",
       "\t<tr><td>freeCodeCamp               </td><td>freeCodeCamp.org's open-source codebase and curriculum. Learn to code for free.         </td><td>https://github.com/freeCodeCamp/freeCodeCamp             </td><td>2014-12-24 17:49:19</td><td>2023-09-21 11:32:33</td><td>http://contribute.freecodecamp.org/                      </td><td>387451</td><td>374074</td><td>33599</td><td>  248</td><td>⋯</td><td> TRUE</td><td> TRUE</td><td>TRUE</td><td>FALSE</td><td> TRUE</td><td>FALSE</td><td>FALSE</td><td>FALSE</td><td>FALSE</td><td>main  </td></tr>\n",
       "\t<tr><td>free-programming-books     </td><td>:books: Freely available programming books                                              </td><td>https://github.com/EbookFoundation/free-programming-books</td><td>2013-10-11 06:50:37</td><td>2023-09-21 11:09:25</td><td>https://ebookfoundation.github.io/free-programming-books/</td><td> 17087</td><td>298393</td><td>57194</td><td>   46</td><td>⋯</td><td> TRUE</td><td>FALSE</td><td>TRUE</td><td>FALSE</td><td> TRUE</td><td>FALSE</td><td>FALSE</td><td>FALSE</td><td>FALSE</td><td>main  </td></tr>\n",
       "\t<tr><td>awesome                    </td><td>😎 Awesome lists about all kinds of interesting topics                                  </td><td>https://github.com/sindresorhus/awesome                  </td><td>2014-07-11 13:42:37</td><td>2023-09-21 11:18:22</td><td>NA                                                       </td><td>  1441</td><td>269997</td><td>26485</td><td>   61</td><td>⋯</td><td> TRUE</td><td>FALSE</td><td>TRUE</td><td>FALSE</td><td> TRUE</td><td>FALSE</td><td>FALSE</td><td>FALSE</td><td>FALSE</td><td>main  </td></tr>\n",
       "\t<tr><td>996.ICU                    </td><td>Repo for counting stars and contributing. Press F to pay respect to glorious developers.</td><td>https://github.com/996icu/996.ICU                        </td><td>2019-03-26 07:31:14</td><td>2023-09-21 08:09:01</td><td>https://996.icu                                          </td><td>187799</td><td>267901</td><td>21497</td><td>16712</td><td>⋯</td><td>FALSE</td><td>FALSE</td><td>TRUE</td><td>FALSE</td><td>FALSE</td><td>FALSE</td><td>FALSE</td><td> TRUE</td><td>FALSE</td><td>master</td></tr>\n",
       "\t<tr><td>coding-interview-university</td><td>A complete computer science study plan to become a software engineer.                   </td><td>https://github.com/jwasham/coding-interview-university   </td><td>2016-06-06 02:34:12</td><td>2023-09-21 10:54:48</td><td>NA                                                       </td><td> 20998</td><td>265161</td><td>69434</td><td>   56</td><td>⋯</td><td> TRUE</td><td>FALSE</td><td>TRUE</td><td>FALSE</td><td>FALSE</td><td>FALSE</td><td>FALSE</td><td>FALSE</td><td>FALSE</td><td>main  </td></tr>\n",
       "\t<tr><td>public-apis                </td><td>A collective list of free APIs                                                          </td><td>https://github.com/public-apis/public-apis               </td><td>2016-03-20 23:49:42</td><td>2023-09-21 11:22:06</td><td>http://public-apis.org                                   </td><td>  5088</td><td>256615</td><td>29254</td><td>  191</td><td>⋯</td><td> TRUE</td><td>FALSE</td><td>TRUE</td><td>FALSE</td><td>FALSE</td><td>FALSE</td><td>FALSE</td><td>FALSE</td><td>FALSE</td><td>master</td></tr>\n",
       "</tbody>\n",
       "</table>\n"
      ],
      "text/latex": [
       "A tibble: 6 × 24\n",
       "\\begin{tabular}{lllllllllllllllllllll}\n",
       " Name & Description & URL & Created At & Updated At & Homepage & Size & Stars & Forks & Issues & ⋯ & Has Issues & Has Projects & Has Downloads & Has Wiki & Has Pages & Has Discussions & Is Fork & Is Archived & Is Template & Default Branch\\\\\n",
       " <chr> & <chr> & <chr> & <dttm> & <dttm> & <chr> & <dbl> & <dbl> & <dbl> & <dbl> & ⋯ & <lgl> & <lgl> & <lgl> & <lgl> & <lgl> & <lgl> & <lgl> & <lgl> & <lgl> & <chr>\\\\\n",
       "\\hline\n",
       "\t freeCodeCamp                & freeCodeCamp.org's open-source codebase and curriculum. Learn to code for free.          & https://github.com/freeCodeCamp/freeCodeCamp              & 2014-12-24 17:49:19 & 2023-09-21 11:32:33 & http://contribute.freecodecamp.org/                       & 387451 & 374074 & 33599 &   248 & ⋯ &  TRUE &  TRUE & TRUE & FALSE &  TRUE & FALSE & FALSE & FALSE & FALSE & main  \\\\\n",
       "\t free-programming-books      & :books: Freely available programming books                                               & https://github.com/EbookFoundation/free-programming-books & 2013-10-11 06:50:37 & 2023-09-21 11:09:25 & https://ebookfoundation.github.io/free-programming-books/ &  17087 & 298393 & 57194 &    46 & ⋯ &  TRUE & FALSE & TRUE & FALSE &  TRUE & FALSE & FALSE & FALSE & FALSE & main  \\\\\n",
       "\t awesome                     & 😎 Awesome lists about all kinds of interesting topics                                   & https://github.com/sindresorhus/awesome                   & 2014-07-11 13:42:37 & 2023-09-21 11:18:22 & NA                                                        &   1441 & 269997 & 26485 &    61 & ⋯ &  TRUE & FALSE & TRUE & FALSE &  TRUE & FALSE & FALSE & FALSE & FALSE & main  \\\\\n",
       "\t 996.ICU                     & Repo for counting stars and contributing. Press F to pay respect to glorious developers. & https://github.com/996icu/996.ICU                         & 2019-03-26 07:31:14 & 2023-09-21 08:09:01 & https://996.icu                                           & 187799 & 267901 & 21497 & 16712 & ⋯ & FALSE & FALSE & TRUE & FALSE & FALSE & FALSE & FALSE &  TRUE & FALSE & master\\\\\n",
       "\t coding-interview-university & A complete computer science study plan to become a software engineer.                    & https://github.com/jwasham/coding-interview-university    & 2016-06-06 02:34:12 & 2023-09-21 10:54:48 & NA                                                        &  20998 & 265161 & 69434 &    56 & ⋯ &  TRUE & FALSE & TRUE & FALSE & FALSE & FALSE & FALSE & FALSE & FALSE & main  \\\\\n",
       "\t public-apis                 & A collective list of free APIs                                                           & https://github.com/public-apis/public-apis                & 2016-03-20 23:49:42 & 2023-09-21 11:22:06 & http://public-apis.org                                    &   5088 & 256615 & 29254 &   191 & ⋯ &  TRUE & FALSE & TRUE & FALSE & FALSE & FALSE & FALSE & FALSE & FALSE & master\\\\\n",
       "\\end{tabular}\n"
      ],
      "text/markdown": [
       "\n",
       "A tibble: 6 × 24\n",
       "\n",
       "| Name &lt;chr&gt; | Description &lt;chr&gt; | URL &lt;chr&gt; | Created At &lt;dttm&gt; | Updated At &lt;dttm&gt; | Homepage &lt;chr&gt; | Size &lt;dbl&gt; | Stars &lt;dbl&gt; | Forks &lt;dbl&gt; | Issues &lt;dbl&gt; | ⋯ ⋯ | Has Issues &lt;lgl&gt; | Has Projects &lt;lgl&gt; | Has Downloads &lt;lgl&gt; | Has Wiki &lt;lgl&gt; | Has Pages &lt;lgl&gt; | Has Discussions &lt;lgl&gt; | Is Fork &lt;lgl&gt; | Is Archived &lt;lgl&gt; | Is Template &lt;lgl&gt; | Default Branch &lt;chr&gt; |\n",
       "|---|---|---|---|---|---|---|---|---|---|---|---|---|---|---|---|---|---|---|---|---|\n",
       "| freeCodeCamp                | freeCodeCamp.org's open-source codebase and curriculum. Learn to code for free.          | https://github.com/freeCodeCamp/freeCodeCamp              | 2014-12-24 17:49:19 | 2023-09-21 11:32:33 | http://contribute.freecodecamp.org/                       | 387451 | 374074 | 33599 |   248 | ⋯ |  TRUE |  TRUE | TRUE | FALSE |  TRUE | FALSE | FALSE | FALSE | FALSE | main   |\n",
       "| free-programming-books      | :books: Freely available programming books                                               | https://github.com/EbookFoundation/free-programming-books | 2013-10-11 06:50:37 | 2023-09-21 11:09:25 | https://ebookfoundation.github.io/free-programming-books/ |  17087 | 298393 | 57194 |    46 | ⋯ |  TRUE | FALSE | TRUE | FALSE |  TRUE | FALSE | FALSE | FALSE | FALSE | main   |\n",
       "| awesome                     | 😎 Awesome lists about all kinds of interesting topics                                   | https://github.com/sindresorhus/awesome                   | 2014-07-11 13:42:37 | 2023-09-21 11:18:22 | NA                                                        |   1441 | 269997 | 26485 |    61 | ⋯ |  TRUE | FALSE | TRUE | FALSE |  TRUE | FALSE | FALSE | FALSE | FALSE | main   |\n",
       "| 996.ICU                     | Repo for counting stars and contributing. Press F to pay respect to glorious developers. | https://github.com/996icu/996.ICU                         | 2019-03-26 07:31:14 | 2023-09-21 08:09:01 | https://996.icu                                           | 187799 | 267901 | 21497 | 16712 | ⋯ | FALSE | FALSE | TRUE | FALSE | FALSE | FALSE | FALSE |  TRUE | FALSE | master |\n",
       "| coding-interview-university | A complete computer science study plan to become a software engineer.                    | https://github.com/jwasham/coding-interview-university    | 2016-06-06 02:34:12 | 2023-09-21 10:54:48 | NA                                                        |  20998 | 265161 | 69434 |    56 | ⋯ |  TRUE | FALSE | TRUE | FALSE | FALSE | FALSE | FALSE | FALSE | FALSE | main   |\n",
       "| public-apis                 | A collective list of free APIs                                                           | https://github.com/public-apis/public-apis                | 2016-03-20 23:49:42 | 2023-09-21 11:22:06 | http://public-apis.org                                    |   5088 | 256615 | 29254 |   191 | ⋯ |  TRUE | FALSE | TRUE | FALSE | FALSE | FALSE | FALSE | FALSE | FALSE | master |\n",
       "\n"
      ],
      "text/plain": [
       "  Name                       \n",
       "1 freeCodeCamp               \n",
       "2 free-programming-books     \n",
       "3 awesome                    \n",
       "4 996.ICU                    \n",
       "5 coding-interview-university\n",
       "6 public-apis                \n",
       "  Description                                                                             \n",
       "1 freeCodeCamp.org's open-source codebase and curriculum. Learn to code for free.         \n",
       "2 :books: Freely available programming books                                              \n",
       "3 😎 Awesome lists about all kinds of interesting topics                                  \n",
       "4 Repo for counting stars and contributing. Press F to pay respect to glorious developers.\n",
       "5 A complete computer science study plan to become a software engineer.                   \n",
       "6 A collective list of free APIs                                                          \n",
       "  URL                                                       Created At         \n",
       "1 https://github.com/freeCodeCamp/freeCodeCamp              2014-12-24 17:49:19\n",
       "2 https://github.com/EbookFoundation/free-programming-books 2013-10-11 06:50:37\n",
       "3 https://github.com/sindresorhus/awesome                   2014-07-11 13:42:37\n",
       "4 https://github.com/996icu/996.ICU                         2019-03-26 07:31:14\n",
       "5 https://github.com/jwasham/coding-interview-university    2016-06-06 02:34:12\n",
       "6 https://github.com/public-apis/public-apis                2016-03-20 23:49:42\n",
       "  Updated At          Homepage                                                 \n",
       "1 2023-09-21 11:32:33 http://contribute.freecodecamp.org/                      \n",
       "2 2023-09-21 11:09:25 https://ebookfoundation.github.io/free-programming-books/\n",
       "3 2023-09-21 11:18:22 NA                                                       \n",
       "4 2023-09-21 08:09:01 https://996.icu                                          \n",
       "5 2023-09-21 10:54:48 NA                                                       \n",
       "6 2023-09-21 11:22:06 http://public-apis.org                                   \n",
       "  Size   Stars  Forks Issues ⋯ Has Issues Has Projects Has Downloads Has Wiki\n",
       "1 387451 374074 33599   248  ⋯  TRUE       TRUE        TRUE          FALSE   \n",
       "2  17087 298393 57194    46  ⋯  TRUE      FALSE        TRUE          FALSE   \n",
       "3   1441 269997 26485    61  ⋯  TRUE      FALSE        TRUE          FALSE   \n",
       "4 187799 267901 21497 16712  ⋯ FALSE      FALSE        TRUE          FALSE   \n",
       "5  20998 265161 69434    56  ⋯  TRUE      FALSE        TRUE          FALSE   \n",
       "6   5088 256615 29254   191  ⋯  TRUE      FALSE        TRUE          FALSE   \n",
       "  Has Pages Has Discussions Is Fork Is Archived Is Template Default Branch\n",
       "1  TRUE     FALSE           FALSE   FALSE       FALSE       main          \n",
       "2  TRUE     FALSE           FALSE   FALSE       FALSE       main          \n",
       "3  TRUE     FALSE           FALSE   FALSE       FALSE       main          \n",
       "4 FALSE     FALSE           FALSE    TRUE       FALSE       master        \n",
       "5 FALSE     FALSE           FALSE   FALSE       FALSE       main          \n",
       "6 FALSE     FALSE           FALSE   FALSE       FALSE       master        "
      ]
     },
     "metadata": {},
     "output_type": "display_data"
    },
    {
     "data": {
      "text/html": [
       "<table class=\"dataframe\">\n",
       "<caption>A tibble: 6 × 3</caption>\n",
       "<thead>\n",
       "\t<tr><th scope=col>Forks</th><th scope=col>Stars</th><th scope=col>Watchers</th></tr>\n",
       "\t<tr><th scope=col>&lt;dbl&gt;</th><th scope=col>&lt;dbl&gt;</th><th scope=col>&lt;dbl&gt;</th></tr>\n",
       "</thead>\n",
       "<tbody>\n",
       "\t<tr><td>33599</td><td>374074</td><td>374074</td></tr>\n",
       "\t<tr><td>57194</td><td>298393</td><td>298393</td></tr>\n",
       "\t<tr><td>26485</td><td>269997</td><td>269997</td></tr>\n",
       "\t<tr><td>21497</td><td>267901</td><td>267901</td></tr>\n",
       "\t<tr><td>69434</td><td>265161</td><td>265161</td></tr>\n",
       "\t<tr><td>29254</td><td>256615</td><td>256615</td></tr>\n",
       "</tbody>\n",
       "</table>\n"
      ],
      "text/latex": [
       "A tibble: 6 × 3\n",
       "\\begin{tabular}{lll}\n",
       " Forks & Stars & Watchers\\\\\n",
       " <dbl> & <dbl> & <dbl>\\\\\n",
       "\\hline\n",
       "\t 33599 & 374074 & 374074\\\\\n",
       "\t 57194 & 298393 & 298393\\\\\n",
       "\t 26485 & 269997 & 269997\\\\\n",
       "\t 21497 & 267901 & 267901\\\\\n",
       "\t 69434 & 265161 & 265161\\\\\n",
       "\t 29254 & 256615 & 256615\\\\\n",
       "\\end{tabular}\n"
      ],
      "text/markdown": [
       "\n",
       "A tibble: 6 × 3\n",
       "\n",
       "| Forks &lt;dbl&gt; | Stars &lt;dbl&gt; | Watchers &lt;dbl&gt; |\n",
       "|---|---|---|\n",
       "| 33599 | 374074 | 374074 |\n",
       "| 57194 | 298393 | 298393 |\n",
       "| 26485 | 269997 | 269997 |\n",
       "| 21497 | 267901 | 267901 |\n",
       "| 69434 | 265161 | 265161 |\n",
       "| 29254 | 256615 | 256615 |\n",
       "\n"
      ],
      "text/plain": [
       "  Forks Stars  Watchers\n",
       "1 33599 374074 374074  \n",
       "2 57194 298393 298393  \n",
       "3 26485 269997 269997  \n",
       "4 21497 267901 267901  \n",
       "5 69434 265161 265161  \n",
       "6 29254 256615 256615  "
      ]
     },
     "metadata": {},
     "output_type": "display_data"
    }
   ],
   "source": [
    "github_data <- read_csv(\"repositories.csv\")\n",
    "head(github_data)\n",
    "\n",
    "github_crucial <- github_data[c(\"Forks\",\"Stars\",\"Watchers\")]\n",
    "tibble(head(github_crucial))"
   ]
  },
  {
   "cell_type": "markdown",
   "id": "7d147ae4-c123-4dde-9482-8f20eaf88a9e",
   "metadata": {},
   "source": [
    "### Dataset description"
   ]
  },
  {
   "cell_type": "markdown",
   "id": "546479f0-8702-4cda-aef7-288b41a32114",
   "metadata": {},
   "source": [
    "The dataset was collected using github search api. The data features 215029 observations and 24 variables of a repository such as the name, description, number of forks, the programming language used, size of the repository, watching number, etc. There are a few attributes that can be worth looking at more closely, including Stars (number of likes the repo has received from users), Forks (number of times the repo has been forked by other users) and Watchers (The number of GitHub users who are \"watching\" the repository)."
   ]
  },
  {
   "cell_type": "markdown",
   "id": "2e2d1034-e526-4772-81a5-167ca6eb8ca5",
   "metadata": {},
   "source": [
    "### Variables description"
   ]
  },
  {
   "cell_type": "markdown",
   "id": "02da3eb7-d33f-4b0d-acf3-789f63aec959",
   "metadata": {},
   "source": [
    "* Name: The name of the GitHub repository\n",
    "\n",
    "* Description: A brief textual description that summarizes the purpose or focus of the repository\n",
    "\n",
    "* URL: The URL or web address that links to the GitHub repository, which is a unique identifier for the repository\n",
    "\n",
    "* Created At: The date and time when the repository was initially created on GitHub, in ISO 8601 format\n",
    "\n",
    "* Updated At: The date and time of the most recent update or modification to the repository, in ISO 8601 format\n",
    "\n",
    "* Homepage: The URL to the homepage or landing page associated with the repository, providing additional information or resources\n",
    "\n",
    "* Size: The size of the repository in bytes, indicating the total storage space used by the repository's files and data\n",
    "\n",
    "* Stars: The number of stars or likes that the repository has received from other GitHub users, indicating its popularity or interest\n",
    "\n",
    "* Forks: The number of times the repository has been forked by other GitHub users\n",
    "\n",
    "* Issues: The total number of open issues (indicating bugs, feature requests, or discussions)\n",
    "\n",
    "* Watchers: The number of GitHub users who are \"watching\" or monitoring the repository for updates and changes\n",
    "\n",
    "* Language: The primary programming language\n",
    "\n",
    "* License: Information about the software license using a license identifier\n",
    "\n",
    "* Topics: A list of topics or tags associated with the repository, helping users discover related projects and topics of interest\n",
    "\n",
    "* Has Issues: A boolean value indicating whether the repository has an issue tracker enabled. In this case, it's true, meaning it has an issue tracker\n",
    "\n",
    "* Has Projects: A boolean value indicating whether the repository uses GitHub Projects to manage and organize tasks and work items\n",
    "\n",
    "* Has Downloads: A boolean value indicating whether the repository offers downloadable files or assets to users\n",
    "\n",
    "* Has Wiki: A boolean value indicating whether the repository has an associated wiki with additional documentation and information\n",
    "\n",
    "* Has Pages: A boolean value indicating whether the repository has GitHub Pages enabled, allowing the creation of a website associated with the repository\n",
    "\n",
    "* Has Discussions: A boolean value indicating whether the repository has GitHub Discussions enabled, allowing community discussions and collaboration\n",
    "\n",
    "* Is Fork: A boolean value indicating whether the repository is a fork of another repository. In this case, it's false, meaning it is not a fork\n",
    "\n",
    "* Is Archived: A boolean value indicating whether the repository is archived. Archived repositories are typically read-only and are no longer actively maintained\n",
    "\n",
    "* Is Template: A boolean value indicating whether the repository is set up as a template\n",
    "\n",
    "* Default Branch: The name of the default branch"
   ]
  },
  {
   "cell_type": "markdown",
   "id": "e991aa30-3df2-4417-bcd5-692b2537dd45",
   "metadata": {},
   "source": [
    "# Question"
   ]
  },
  {
   "cell_type": "markdown",
   "id": "ec04a3f6-3db6-4c51-b79e-e10b5be8216b",
   "metadata": {},
   "source": [
    "> \"How does the number of \"Forks\" on GitHub repositories relate to the number of \"Stars\" and \"Watchers\"?\" "
   ]
  },
  {
   "cell_type": "markdown",
   "id": "7709a24c-569a-4715-962c-65405727a356",
   "metadata": {},
   "source": [
    "* Response variable:"
   ]
  },
  {
   "cell_type": "markdown",
   "id": "7fcb358b-bc06-432c-8a06-f7bcff59457b",
   "metadata": {},
   "source": [
    "`Forks`: The number of times the repository has been forked by other GitHub users"
   ]
  },
  {
   "cell_type": "markdown",
   "id": "a5b52b81-3ecc-4d47-a8fa-aaa63502e8de",
   "metadata": {},
   "source": [
    "* Explanatory variable:"
   ]
  },
  {
   "cell_type": "markdown",
   "id": "f91dc9e3-9d9a-4a89-8f8b-a7b4ca37df4d",
   "metadata": {},
   "source": [
    "`Stars`: The number of stars or likes that the repository has received from other GitHub users, indicating its popularity or interest\n"
   ]
  },
  {
   "cell_type": "markdown",
   "id": "e14b94ac-2978-40fb-a8ab-40cd9c00c6ad",
   "metadata": {},
   "source": [
    "`Watchers`: The number of GitHub users who are \"watching\" or monitoring the repository for updates and changes"
   ]
  },
  {
   "cell_type": "markdown",
   "id": "be3976fc-ef46-4803-953b-6bb682c268bb",
   "metadata": {},
   "source": [
    "#### Explanation\n"
   ]
  },
  {
   "cell_type": "markdown",
   "id": "3fc0e22a-44a8-486d-9cc5-478da88ee65a",
   "metadata": {},
   "source": [
    "The dataset includes information on the number of forks, stars, and watchers of GitHub repositories. This project will aim to explore the relationship between these variables. Specifically, I am going to investigate if the higher number of stars and watchers indicate the higher number of repository being forked."
   ]
  },
  {
   "cell_type": "markdown",
   "id": "47e3262c-97fb-47df-8159-6ed95547203b",
   "metadata": {},
   "source": [
    "This project will be focusing on relationship between Forks, Stars and Watchers. Therefore, I will be using **inference** to investigate how the explanatory variables influence the number of repository being forked.\n",
    "\n"
   ]
  },
  {
   "cell_type": "code",
   "execution_count": null,
   "id": "62c764da-6870-40a6-9666-1c1d9c8db8dd",
   "metadata": {},
   "outputs": [],
   "source": []
  }
 ],
 "metadata": {
  "kernelspec": {
   "display_name": "R",
   "language": "R",
   "name": "ir"
  },
  "language_info": {
   "codemirror_mode": "r",
   "file_extension": ".r",
   "mimetype": "text/x-r-source",
   "name": "R",
   "pygments_lexer": "r",
   "version": "4.2.3"
  }
 },
 "nbformat": 4,
 "nbformat_minor": 5
}
