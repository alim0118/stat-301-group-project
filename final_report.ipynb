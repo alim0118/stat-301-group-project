{
 "cells": [
  {
   "cell_type": "markdown",
   "id": "71ad38eb-2ed4-4368-a714-fdd959e0172e",
   "metadata": {},
   "source": [
    "# Add title"
   ]
  },
  {
   "cell_type": "markdown",
   "id": "51cc1a34-d41b-4925-a59b-d76bdf04cbc9",
   "metadata": {},
   "source": [
    "## Introduction"
   ]
  },
  {
   "cell_type": "markdown",
   "id": "6499a5c8-dd2d-47a3-880f-e08e2157c6ef",
   "metadata": {},
   "source": [
    "### Background"
   ]
  },
  {
   "cell_type": "markdown",
   "id": "592ac669-15c3-43df-af83-cbfe5c25c187",
   "metadata": {},
   "source": [
    "GitHub is an online, cloud-based hosting service that manages software projects through key functionalities such as tracking, organizing, sharing, and collaborating (Braga et al., 2023). GitHub is currently the most popular social coding platform, with the popularity and quality of the users' repositories serving as strong indicators of their capacity, skills, and experiences (Hu et al., 2016). "
   ]
  },
  {
   "cell_type": "markdown",
   "id": "e716d636-d0cd-4435-a92d-d2871799e3b2",
   "metadata": {},
   "source": [
    "### Question"
   ]
  },
  {
   "cell_type": "markdown",
   "id": "e79d7b33-5f70-4bcd-a259-3b9709c8c969",
   "metadata": {},
   "source": [
    "**Question**: Out of the top three most popular programming languages in the dataset, is there an association between the popularity of a GitHub repository, measured by the number of stars it receives, its programming language, the number of open issues, and whether it has GitHub Projects enabled?"
   ]
  },
  {
   "cell_type": "markdown",
   "id": "62e69c98-8734-4447-9439-5dd61e7d8d28",
   "metadata": {},
   "source": [
    "### Data:"
   ]
  },
  {
   "cell_type": "markdown",
   "id": "3728397e-c88c-45f3-a35e-8bed0ccbefac",
   "metadata": {},
   "source": [
    "The data is about GitHub projects with more than 167 stars from other users, indicating the popularity of a repository. It consists of 215029 rows corresponding to the top repositories and 24 attributes such as the name and description, number of forks, watching number, and number of stars. The data was collected using the GitHub Search API, searching for repositories with star counts falling within a specific range. \n",
    "\n",
    "The features include:"
   ]
  },
  {
   "cell_type": "markdown",
   "id": "a84a7afc-3e57-47c5-b7aa-6b3df4b3b46f",
   "metadata": {},
   "source": [
    "1. `Name`: GitHub repository name (chr)\n",
    "2. `Description`: Short text description on purpose or focus of repository (chr)\n",
    "3. `URL`: Unique URL to GitHub repository (chr)\n",
    "4. `Created At`: Date and time repository was created on GitHub, in ISO 8601 format (chr)\n",
    "5. `Updated At`: Date and time of repository's most recent update, in ISO 8601 format (chr)\n",
    "6. `Homepage`: URL to homepage associated with repository (chr)\n",
    "7. `Size`: Size of repository in bytes (int)\n",
    "8. `Stars`: Number of stars repository received from other GitHub users (int)\n",
    "9. `Forks`: Number of forks repository has from other GitHub users (int)\n",
    "10. `Issues`: Total number of open issues (int)\n",
    "11. `Watchers`: Total number of repository \"watchers\" (int)\n",
    "12. `Language`: Primary programming language of repository (chr)\n",
    "13. `License`: Information about software license from a license identifier (chr)\n",
    "14. `Topics`: List of tags associated with repository (chr)\n",
    "15. `Has Issues`: Boolean value indicating whether repository has an issue tracker enabled (chr)\n",
    "16. `Has Projects`: Boolean value indicating whether repository uses GitHub Projects tool (chr)\n",
    "17. `Has Downloads`: Boolean value indicating whether repository has downloadable files for users (chr)\n",
    "18. `Has Wiki`: Boolean value indicating whether repository has an associated Wiki page (chr)\n",
    "19. `Has Pages`: Boolean value indicating whether repository has GitHub Pages enabled (chr)\n",
    "20. `Has Discussions`: Boolean value indicating whether repository has GitHub Discussions enabled (chr)\n",
    "21. `Is Fork`: Boolean value indicating whether repository is a fork of another repository (chr)\n",
    "22. `Is Archived`: Boolean value indicating whether repository is archived (chr)\n",
    "23. `Is Template`: Boolean value indicating whether repository has a template (chr)\n",
    "24. `Default Branch`: Name of default branch (chr)"
   ]
  },
  {
   "cell_type": "markdown",
   "id": "71584289-dbd5-4dd1-a4d0-9a02a3d386bc",
   "metadata": {},
   "source": [
    "## Methods and Results"
   ]
  },
  {
   "cell_type": "markdown",
   "id": "4d2c3b32-ea6c-47d7-bfa3-c65c53dc6174",
   "metadata": {},
   "source": [
    "### EDA"
   ]
  },
  {
   "cell_type": "markdown",
   "id": "99117c13-f8cc-4a66-912a-6b18c55559e9",
   "metadata": {},
   "source": [
    "To do:\n",
    "- Check for NA values\n",
    "- remove outliers?\n",
    "- plot visualizations"
   ]
  },
  {
   "cell_type": "markdown",
   "id": "bee62665-3a33-4130-97c9-b82a7cc2593b",
   "metadata": {},
   "source": [
    "#### Import libraries and read data"
   ]
  },
  {
   "cell_type": "code",
   "execution_count": 1,
   "id": "eb7b1af6-0e3f-483a-9c8c-fd2d22e8802f",
   "metadata": {
    "tags": []
   },
   "outputs": [
    {
     "name": "stderr",
     "output_type": "stream",
     "text": [
      "── \u001b[1mAttaching core tidyverse packages\u001b[22m ──────────────────────── tidyverse 2.0.0 ──\n",
      "\u001b[32m✔\u001b[39m \u001b[34mdplyr    \u001b[39m 1.1.4     \u001b[32m✔\u001b[39m \u001b[34mreadr    \u001b[39m 2.1.4\n",
      "\u001b[32m✔\u001b[39m \u001b[34mforcats  \u001b[39m 1.0.0     \u001b[32m✔\u001b[39m \u001b[34mstringr  \u001b[39m 1.5.1\n",
      "\u001b[32m✔\u001b[39m \u001b[34mggplot2  \u001b[39m 3.4.4     \u001b[32m✔\u001b[39m \u001b[34mtibble   \u001b[39m 3.2.1\n",
      "\u001b[32m✔\u001b[39m \u001b[34mlubridate\u001b[39m 1.9.3     \u001b[32m✔\u001b[39m \u001b[34mtidyr    \u001b[39m 1.3.0\n",
      "\u001b[32m✔\u001b[39m \u001b[34mpurrr    \u001b[39m 1.0.2     \n",
      "── \u001b[1mConflicts\u001b[22m ────────────────────────────────────────── tidyverse_conflicts() ──\n",
      "\u001b[31m✖\u001b[39m \u001b[34mdplyr\u001b[39m::\u001b[32mfilter()\u001b[39m masks \u001b[34mstats\u001b[39m::filter()\n",
      "\u001b[31m✖\u001b[39m \u001b[34mdplyr\u001b[39m::\u001b[32mlag()\u001b[39m    masks \u001b[34mstats\u001b[39m::lag()\n",
      "\u001b[36mℹ\u001b[39m Use the conflicted package (\u001b[3m\u001b[34m<http://conflicted.r-lib.org/>\u001b[39m\u001b[23m) to force all conflicts to become errors\n",
      "\n",
      "************\n",
      "Welcome to faux. For support and examples visit:\n",
      "https://debruine.github.io/faux/\n",
      "- Get and set global package options with: faux_options()\n",
      "************\n",
      "\n",
      "Loading required package: car\n",
      "\n",
      "Loading required package: carData\n",
      "\n",
      "\n",
      "Attaching package: ‘car’\n",
      "\n",
      "\n",
      "The following object is masked from ‘package:dplyr’:\n",
      "\n",
      "    recode\n",
      "\n",
      "\n",
      "The following object is masked from ‘package:purrr’:\n",
      "\n",
      "    some\n",
      "\n",
      "\n",
      "Loading required package: lmtest\n",
      "\n",
      "Loading required package: zoo\n",
      "\n",
      "\n",
      "Attaching package: ‘zoo’\n",
      "\n",
      "\n",
      "The following objects are masked from ‘package:base’:\n",
      "\n",
      "    as.Date, as.Date.numeric\n",
      "\n",
      "\n",
      "Loading required package: sandwich\n",
      "\n",
      "Loading required package: survival\n",
      "\n",
      "\n",
      "Attaching package: ‘cowplot’\n",
      "\n",
      "\n",
      "The following object is masked from ‘package:lubridate’:\n",
      "\n",
      "    stamp\n",
      "\n",
      "\n",
      "\n",
      "Attaching package: ‘gridExtra’\n",
      "\n",
      "\n",
      "The following object is masked from ‘package:dplyr’:\n",
      "\n",
      "    combine\n",
      "\n",
      "\n",
      "Registered S3 method overwritten by 'GGally':\n",
      "  method from   \n",
      "  +.gg   ggplot2\n",
      "\n",
      "\n",
      "Attaching package: ‘mltools’\n",
      "\n",
      "\n",
      "The following object is masked from ‘package:tidyr’:\n",
      "\n",
      "    replace_na\n",
      "\n",
      "\n"
     ]
    }
   ],
   "source": [
    "# import and load libraries\n",
    "library(tidyverse)\n",
    "library(repr)\n",
    "library(infer)\n",
    "library(faux)\n",
    "library(AER)\n",
    "library(broom)\n",
    "library(dplyr)\n",
    "library(cowplot)\n",
    "library(gridExtra)\n",
    "library(grid)\n",
    "library(GGally)\n",
    "library(car)\n",
    "library(mltools)\n",
    "library(leaps)\n",
    "\n",
    "# note: delete unused ones, I included all libraries that were imported from each indiv assignment"
   ]
  },
  {
   "cell_type": "code",
   "execution_count": 2,
   "id": "519b085e-2f8e-4040-9664-9e2c9c256c1d",
   "metadata": {
    "tags": []
   },
   "outputs": [
    {
     "data": {
      "text/html": [
       "<table class=\"dataframe\">\n",
       "<caption>A data.frame: 6 × 24</caption>\n",
       "<thead>\n",
       "\t<tr><th></th><th scope=col>Name</th><th scope=col>Description</th><th scope=col>URL</th><th scope=col>Created.At</th><th scope=col>Updated.At</th><th scope=col>Homepage</th><th scope=col>Size</th><th scope=col>Stars</th><th scope=col>Forks</th><th scope=col>Issues</th><th scope=col>⋯</th><th scope=col>Has.Issues</th><th scope=col>Has.Projects</th><th scope=col>Has.Downloads</th><th scope=col>Has.Wiki</th><th scope=col>Has.Pages</th><th scope=col>Has.Discussions</th><th scope=col>Is.Fork</th><th scope=col>Is.Archived</th><th scope=col>Is.Template</th><th scope=col>Default.Branch</th></tr>\n",
       "\t<tr><th></th><th scope=col>&lt;chr&gt;</th><th scope=col>&lt;chr&gt;</th><th scope=col>&lt;chr&gt;</th><th scope=col>&lt;chr&gt;</th><th scope=col>&lt;chr&gt;</th><th scope=col>&lt;chr&gt;</th><th scope=col>&lt;int&gt;</th><th scope=col>&lt;int&gt;</th><th scope=col>&lt;int&gt;</th><th scope=col>&lt;int&gt;</th><th scope=col>⋯</th><th scope=col>&lt;chr&gt;</th><th scope=col>&lt;chr&gt;</th><th scope=col>&lt;chr&gt;</th><th scope=col>&lt;chr&gt;</th><th scope=col>&lt;chr&gt;</th><th scope=col>&lt;chr&gt;</th><th scope=col>&lt;chr&gt;</th><th scope=col>&lt;chr&gt;</th><th scope=col>&lt;chr&gt;</th><th scope=col>&lt;chr&gt;</th></tr>\n",
       "</thead>\n",
       "<tbody>\n",
       "\t<tr><th scope=row>1</th><td>freeCodeCamp               </td><td>freeCodeCamp.org's open-source codebase and curriculum. Learn to code for free.         </td><td>https://github.com/freeCodeCamp/freeCodeCamp             </td><td>2014-12-24T17:49:19Z</td><td>2023-09-21T11:32:33Z</td><td>http://contribute.freecodecamp.org/                      </td><td>387451</td><td>374074</td><td>33599</td><td>  248</td><td>⋯</td><td>True </td><td>True </td><td>True</td><td>False</td><td>True </td><td>False</td><td>False</td><td>False</td><td>False</td><td>main  </td></tr>\n",
       "\t<tr><th scope=row>2</th><td>free-programming-books     </td><td>:books: Freely available programming books                                              </td><td>https://github.com/EbookFoundation/free-programming-books</td><td>2013-10-11T06:50:37Z</td><td>2023-09-21T11:09:25Z</td><td>https://ebookfoundation.github.io/free-programming-books/</td><td> 17087</td><td>298393</td><td>57194</td><td>   46</td><td>⋯</td><td>True </td><td>False</td><td>True</td><td>False</td><td>True </td><td>False</td><td>False</td><td>False</td><td>False</td><td>main  </td></tr>\n",
       "\t<tr><th scope=row>3</th><td>awesome                    </td><td>😎 Awesome lists about all kinds of interesting topics                                  </td><td>https://github.com/sindresorhus/awesome                  </td><td>2014-07-11T13:42:37Z</td><td>2023-09-21T11:18:22Z</td><td>                                                         </td><td>  1441</td><td>269997</td><td>26485</td><td>   61</td><td>⋯</td><td>True </td><td>False</td><td>True</td><td>False</td><td>True </td><td>False</td><td>False</td><td>False</td><td>False</td><td>main  </td></tr>\n",
       "\t<tr><th scope=row>4</th><td>996.ICU                    </td><td>Repo for counting stars and contributing. Press F to pay respect to glorious developers.</td><td>https://github.com/996icu/996.ICU                        </td><td>2019-03-26T07:31:14Z</td><td>2023-09-21T08:09:01Z</td><td>https://996.icu                                          </td><td>187799</td><td>267901</td><td>21497</td><td>16712</td><td>⋯</td><td>False</td><td>False</td><td>True</td><td>False</td><td>False</td><td>False</td><td>False</td><td>True </td><td>False</td><td>master</td></tr>\n",
       "\t<tr><th scope=row>5</th><td>coding-interview-university</td><td>A complete computer science study plan to become a software engineer.                   </td><td>https://github.com/jwasham/coding-interview-university   </td><td>2016-06-06T02:34:12Z</td><td>2023-09-21T10:54:48Z</td><td>                                                         </td><td> 20998</td><td>265161</td><td>69434</td><td>   56</td><td>⋯</td><td>True </td><td>False</td><td>True</td><td>False</td><td>False</td><td>False</td><td>False</td><td>False</td><td>False</td><td>main  </td></tr>\n",
       "\t<tr><th scope=row>6</th><td>public-apis                </td><td>A collective list of free APIs                                                          </td><td>https://github.com/public-apis/public-apis               </td><td>2016-03-20T23:49:42Z</td><td>2023-09-21T11:22:06Z</td><td>http://public-apis.org                                   </td><td>  5088</td><td>256615</td><td>29254</td><td>  191</td><td>⋯</td><td>True </td><td>False</td><td>True</td><td>False</td><td>False</td><td>False</td><td>False</td><td>False</td><td>False</td><td>master</td></tr>\n",
       "</tbody>\n",
       "</table>\n"
      ],
      "text/latex": [
       "A data.frame: 6 × 24\n",
       "\\begin{tabular}{r|lllllllllllllllllllll}\n",
       "  & Name & Description & URL & Created.At & Updated.At & Homepage & Size & Stars & Forks & Issues & ⋯ & Has.Issues & Has.Projects & Has.Downloads & Has.Wiki & Has.Pages & Has.Discussions & Is.Fork & Is.Archived & Is.Template & Default.Branch\\\\\n",
       "  & <chr> & <chr> & <chr> & <chr> & <chr> & <chr> & <int> & <int> & <int> & <int> & ⋯ & <chr> & <chr> & <chr> & <chr> & <chr> & <chr> & <chr> & <chr> & <chr> & <chr>\\\\\n",
       "\\hline\n",
       "\t1 & freeCodeCamp                & freeCodeCamp.org's open-source codebase and curriculum. Learn to code for free.          & https://github.com/freeCodeCamp/freeCodeCamp              & 2014-12-24T17:49:19Z & 2023-09-21T11:32:33Z & http://contribute.freecodecamp.org/                       & 387451 & 374074 & 33599 &   248 & ⋯ & True  & True  & True & False & True  & False & False & False & False & main  \\\\\n",
       "\t2 & free-programming-books      & :books: Freely available programming books                                               & https://github.com/EbookFoundation/free-programming-books & 2013-10-11T06:50:37Z & 2023-09-21T11:09:25Z & https://ebookfoundation.github.io/free-programming-books/ &  17087 & 298393 & 57194 &    46 & ⋯ & True  & False & True & False & True  & False & False & False & False & main  \\\\\n",
       "\t3 & awesome                     & 😎 Awesome lists about all kinds of interesting topics                                   & https://github.com/sindresorhus/awesome                   & 2014-07-11T13:42:37Z & 2023-09-21T11:18:22Z &                                                           &   1441 & 269997 & 26485 &    61 & ⋯ & True  & False & True & False & True  & False & False & False & False & main  \\\\\n",
       "\t4 & 996.ICU                     & Repo for counting stars and contributing. Press F to pay respect to glorious developers. & https://github.com/996icu/996.ICU                         & 2019-03-26T07:31:14Z & 2023-09-21T08:09:01Z & https://996.icu                                           & 187799 & 267901 & 21497 & 16712 & ⋯ & False & False & True & False & False & False & False & True  & False & master\\\\\n",
       "\t5 & coding-interview-university & A complete computer science study plan to become a software engineer.                    & https://github.com/jwasham/coding-interview-university    & 2016-06-06T02:34:12Z & 2023-09-21T10:54:48Z &                                                           &  20998 & 265161 & 69434 &    56 & ⋯ & True  & False & True & False & False & False & False & False & False & main  \\\\\n",
       "\t6 & public-apis                 & A collective list of free APIs                                                           & https://github.com/public-apis/public-apis                & 2016-03-20T23:49:42Z & 2023-09-21T11:22:06Z & http://public-apis.org                                    &   5088 & 256615 & 29254 &   191 & ⋯ & True  & False & True & False & False & False & False & False & False & master\\\\\n",
       "\\end{tabular}\n"
      ],
      "text/markdown": [
       "\n",
       "A data.frame: 6 × 24\n",
       "\n",
       "| <!--/--> | Name &lt;chr&gt; | Description &lt;chr&gt; | URL &lt;chr&gt; | Created.At &lt;chr&gt; | Updated.At &lt;chr&gt; | Homepage &lt;chr&gt; | Size &lt;int&gt; | Stars &lt;int&gt; | Forks &lt;int&gt; | Issues &lt;int&gt; | ⋯ ⋯ | Has.Issues &lt;chr&gt; | Has.Projects &lt;chr&gt; | Has.Downloads &lt;chr&gt; | Has.Wiki &lt;chr&gt; | Has.Pages &lt;chr&gt; | Has.Discussions &lt;chr&gt; | Is.Fork &lt;chr&gt; | Is.Archived &lt;chr&gt; | Is.Template &lt;chr&gt; | Default.Branch &lt;chr&gt; |\n",
       "|---|---|---|---|---|---|---|---|---|---|---|---|---|---|---|---|---|---|---|---|---|---|\n",
       "| 1 | freeCodeCamp                | freeCodeCamp.org's open-source codebase and curriculum. Learn to code for free.          | https://github.com/freeCodeCamp/freeCodeCamp              | 2014-12-24T17:49:19Z | 2023-09-21T11:32:33Z | http://contribute.freecodecamp.org/                       | 387451 | 374074 | 33599 |   248 | ⋯ | True  | True  | True | False | True  | False | False | False | False | main   |\n",
       "| 2 | free-programming-books      | :books: Freely available programming books                                               | https://github.com/EbookFoundation/free-programming-books | 2013-10-11T06:50:37Z | 2023-09-21T11:09:25Z | https://ebookfoundation.github.io/free-programming-books/ |  17087 | 298393 | 57194 |    46 | ⋯ | True  | False | True | False | True  | False | False | False | False | main   |\n",
       "| 3 | awesome                     | 😎 Awesome lists about all kinds of interesting topics                                   | https://github.com/sindresorhus/awesome                   | 2014-07-11T13:42:37Z | 2023-09-21T11:18:22Z | <!----> |   1441 | 269997 | 26485 |    61 | ⋯ | True  | False | True | False | True  | False | False | False | False | main   |\n",
       "| 4 | 996.ICU                     | Repo for counting stars and contributing. Press F to pay respect to glorious developers. | https://github.com/996icu/996.ICU                         | 2019-03-26T07:31:14Z | 2023-09-21T08:09:01Z | https://996.icu                                           | 187799 | 267901 | 21497 | 16712 | ⋯ | False | False | True | False | False | False | False | True  | False | master |\n",
       "| 5 | coding-interview-university | A complete computer science study plan to become a software engineer.                    | https://github.com/jwasham/coding-interview-university    | 2016-06-06T02:34:12Z | 2023-09-21T10:54:48Z | <!----> |  20998 | 265161 | 69434 |    56 | ⋯ | True  | False | True | False | False | False | False | False | False | main   |\n",
       "| 6 | public-apis                 | A collective list of free APIs                                                           | https://github.com/public-apis/public-apis                | 2016-03-20T23:49:42Z | 2023-09-21T11:22:06Z | http://public-apis.org                                    |   5088 | 256615 | 29254 |   191 | ⋯ | True  | False | True | False | False | False | False | False | False | master |\n",
       "\n"
      ],
      "text/plain": [
       "  Name                       \n",
       "1 freeCodeCamp               \n",
       "2 free-programming-books     \n",
       "3 awesome                    \n",
       "4 996.ICU                    \n",
       "5 coding-interview-university\n",
       "6 public-apis                \n",
       "  Description                                                                             \n",
       "1 freeCodeCamp.org's open-source codebase and curriculum. Learn to code for free.         \n",
       "2 :books: Freely available programming books                                              \n",
       "3 😎 Awesome lists about all kinds of interesting topics                                  \n",
       "4 Repo for counting stars and contributing. Press F to pay respect to glorious developers.\n",
       "5 A complete computer science study plan to become a software engineer.                   \n",
       "6 A collective list of free APIs                                                          \n",
       "  URL                                                      \n",
       "1 https://github.com/freeCodeCamp/freeCodeCamp             \n",
       "2 https://github.com/EbookFoundation/free-programming-books\n",
       "3 https://github.com/sindresorhus/awesome                  \n",
       "4 https://github.com/996icu/996.ICU                        \n",
       "5 https://github.com/jwasham/coding-interview-university   \n",
       "6 https://github.com/public-apis/public-apis               \n",
       "  Created.At           Updated.At          \n",
       "1 2014-12-24T17:49:19Z 2023-09-21T11:32:33Z\n",
       "2 2013-10-11T06:50:37Z 2023-09-21T11:09:25Z\n",
       "3 2014-07-11T13:42:37Z 2023-09-21T11:18:22Z\n",
       "4 2019-03-26T07:31:14Z 2023-09-21T08:09:01Z\n",
       "5 2016-06-06T02:34:12Z 2023-09-21T10:54:48Z\n",
       "6 2016-03-20T23:49:42Z 2023-09-21T11:22:06Z\n",
       "  Homepage                                                  Size   Stars  Forks\n",
       "1 http://contribute.freecodecamp.org/                       387451 374074 33599\n",
       "2 https://ebookfoundation.github.io/free-programming-books/  17087 298393 57194\n",
       "3                                                             1441 269997 26485\n",
       "4 https://996.icu                                           187799 267901 21497\n",
       "5                                                            20998 265161 69434\n",
       "6 http://public-apis.org                                      5088 256615 29254\n",
       "  Issues ⋯ Has.Issues Has.Projects Has.Downloads Has.Wiki Has.Pages\n",
       "1   248  ⋯ True       True         True          False    True     \n",
       "2    46  ⋯ True       False        True          False    True     \n",
       "3    61  ⋯ True       False        True          False    True     \n",
       "4 16712  ⋯ False      False        True          False    False    \n",
       "5    56  ⋯ True       False        True          False    False    \n",
       "6   191  ⋯ True       False        True          False    False    \n",
       "  Has.Discussions Is.Fork Is.Archived Is.Template Default.Branch\n",
       "1 False           False   False       False       main          \n",
       "2 False           False   False       False       main          \n",
       "3 False           False   False       False       main          \n",
       "4 False           False   True        False       master        \n",
       "5 False           False   False       False       main          \n",
       "6 False           False   False       False       master        "
      ]
     },
     "metadata": {},
     "output_type": "display_data"
    },
    {
     "data": {
      "text/html": [
       "215029"
      ],
      "text/latex": [
       "215029"
      ],
      "text/markdown": [
       "215029"
      ],
      "text/plain": [
       "[1] 215029"
      ]
     },
     "metadata": {},
     "output_type": "display_data"
    }
   ],
   "source": [
    "# read data from github repo\n",
    "github_url <- \"https://github.com/alim0118/stat-301-group-project/raw/main/repositories.csv\"\n",
    "repositories <- read.csv(github_url, header=TRUE)\n",
    "head(repositories)\n",
    "nrow(repositories) # dataset size before wrangling: 215029"
   ]
  },
  {
   "cell_type": "markdown",
   "id": "56527feb-6a85-48df-9f77-de046abc57e7",
   "metadata": {},
   "source": [
    "#### Data Cleaning"
   ]
  },
  {
   "cell_type": "markdown",
   "id": "4051afe0-0919-48ff-b5fa-342f9833d184",
   "metadata": {},
   "source": [
    "We will only select the relevant variable types for regression analysis: continuous and categorical variables. We observe that certain character type features have more than a few hundred to thousands of unique categories or are not relevant to our data analysis. Hence we will not consider such features as categorical. Madley‐Dowd et al. (2019) state that analyses with more than 10% missing data are plausible for bias. So we will use 10% missingness as the threshold for this analysis. We notice that features like `Homepage`, `Topics`, and `License` have 25% or more of their values as null or empty, so we will omit these variables. Now we consider the following features `Size`, `Stars`, `Forks`, `Issues`, `Watchers`, , `Language`, `Has.Issues`, `Has.Downloads`, `Has.Wiki`, `Has.Pages`, `Has.Discussions`, `Is.Fork`, `Is.Archived`, and `Is.Template` as the continuous or categorical variables for this analysis. "
   ]
  },
  {
   "cell_type": "code",
   "execution_count": 3,
   "id": "bbcad506-b45f-425e-88a1-3d55675e27f5",
   "metadata": {
    "tags": []
   },
   "outputs": [
    {
     "data": {
      "text/html": [
       "<style>\n",
       ".dl-inline {width: auto; margin:0; padding: 0}\n",
       ".dl-inline>dt, .dl-inline>dd {float: none; width: auto; display: inline-block}\n",
       ".dl-inline>dt::after {content: \":\\0020\"; padding-right: .5ex}\n",
       ".dl-inline>dt:not(:first-of-type) {padding-left: .5ex}\n",
       "</style><dl class=dl-inline><dt>Name</dt><dd>196821</dd><dt>Description</dt><dd>206110</dd><dt>URL</dt><dd>215029</dd><dt>Created.At</dt><dd>214922</dd><dt>Updated.At</dt><dd>193011</dd><dt>Homepage</dt><dd>74198</dd><dt>Size</dt><dd>58043</dd><dt>Stars</dt><dd>10390</dd><dt>Forks</dt><dd>4174</dd><dt>Issues</dt><dd>1450</dd><dt>Watchers</dt><dd>10390</dd><dt>Language</dt><dd>370</dd><dt>License</dt><dd>46</dd><dt>Topics</dt><dd>110123</dd><dt>Has.Issues</dt><dd>2</dd><dt>Has.Projects</dt><dd>2</dd><dt>Has.Downloads</dt><dd>2</dd><dt>Has.Wiki</dt><dd>2</dd><dt>Has.Pages</dt><dd>2</dd><dt>Has.Discussions</dt><dd>2</dd><dt>Is.Fork</dt><dd>1</dd><dt>Is.Archived</dt><dd>2</dd><dt>Is.Template</dt><dd>2</dd><dt>Default.Branch</dt><dd>2326</dd></dl>\n"
      ],
      "text/latex": [
       "\\begin{description*}\n",
       "\\item[Name] 196821\n",
       "\\item[Description] 206110\n",
       "\\item[URL] 215029\n",
       "\\item[Created.At] 214922\n",
       "\\item[Updated.At] 193011\n",
       "\\item[Homepage] 74198\n",
       "\\item[Size] 58043\n",
       "\\item[Stars] 10390\n",
       "\\item[Forks] 4174\n",
       "\\item[Issues] 1450\n",
       "\\item[Watchers] 10390\n",
       "\\item[Language] 370\n",
       "\\item[License] 46\n",
       "\\item[Topics] 110123\n",
       "\\item[Has.Issues] 2\n",
       "\\item[Has.Projects] 2\n",
       "\\item[Has.Downloads] 2\n",
       "\\item[Has.Wiki] 2\n",
       "\\item[Has.Pages] 2\n",
       "\\item[Has.Discussions] 2\n",
       "\\item[Is.Fork] 1\n",
       "\\item[Is.Archived] 2\n",
       "\\item[Is.Template] 2\n",
       "\\item[Default.Branch] 2326\n",
       "\\end{description*}\n"
      ],
      "text/markdown": [
       "Name\n",
       ":   196821Description\n",
       ":   206110URL\n",
       ":   215029Created.At\n",
       ":   214922Updated.At\n",
       ":   193011Homepage\n",
       ":   74198Size\n",
       ":   58043Stars\n",
       ":   10390Forks\n",
       ":   4174Issues\n",
       ":   1450Watchers\n",
       ":   10390Language\n",
       ":   370License\n",
       ":   46Topics\n",
       ":   110123Has.Issues\n",
       ":   2Has.Projects\n",
       ":   2Has.Downloads\n",
       ":   2Has.Wiki\n",
       ":   2Has.Pages\n",
       ":   2Has.Discussions\n",
       ":   2Is.Fork\n",
       ":   1Is.Archived\n",
       ":   2Is.Template\n",
       ":   2Default.Branch\n",
       ":   2326\n",
       "\n"
      ],
      "text/plain": [
       "           Name     Description             URL      Created.At      Updated.At \n",
       "         196821          206110          215029          214922          193011 \n",
       "       Homepage            Size           Stars           Forks          Issues \n",
       "          74198           58043           10390            4174            1450 \n",
       "       Watchers        Language         License          Topics      Has.Issues \n",
       "          10390             370              46          110123               2 \n",
       "   Has.Projects   Has.Downloads        Has.Wiki       Has.Pages Has.Discussions \n",
       "              2               2               2               2               2 \n",
       "        Is.Fork     Is.Archived     Is.Template  Default.Branch \n",
       "              1               2               2            2326 "
      ]
     },
     "metadata": {},
     "output_type": "display_data"
    }
   ],
   "source": [
    "# find number of unique values in each feature\n",
    "sapply(repositories, n_distinct)"
   ]
  },
  {
   "cell_type": "code",
   "execution_count": 4,
   "id": "aae89eab-8505-4c14-894e-9b3f56b6d0c3",
   "metadata": {
    "tags": []
   },
   "outputs": [
    {
     "data": {
      "text/html": [
       "<table class=\"dataframe\">\n",
       "<caption>A data.frame: 1 × 3</caption>\n",
       "<thead>\n",
       "\t<tr><th scope=col>Homepage</th><th scope=col>License</th><th scope=col>Topics</th></tr>\n",
       "\t<tr><th scope=col>&lt;dbl&gt;</th><th scope=col>&lt;dbl&gt;</th><th scope=col>&lt;dbl&gt;</th></tr>\n",
       "</thead>\n",
       "<tbody>\n",
       "\t<tr><td>0.6354492</td><td>0.2466598</td><td>0.4700389</td></tr>\n",
       "</tbody>\n",
       "</table>\n"
      ],
      "text/latex": [
       "A data.frame: 1 × 3\n",
       "\\begin{tabular}{lll}\n",
       " Homepage & License & Topics\\\\\n",
       " <dbl> & <dbl> & <dbl>\\\\\n",
       "\\hline\n",
       "\t 0.6354492 & 0.2466598 & 0.4700389\\\\\n",
       "\\end{tabular}\n"
      ],
      "text/markdown": [
       "\n",
       "A data.frame: 1 × 3\n",
       "\n",
       "| Homepage &lt;dbl&gt; | License &lt;dbl&gt; | Topics &lt;dbl&gt; |\n",
       "|---|---|---|\n",
       "| 0.6354492 | 0.2466598 | 0.4700389 |\n",
       "\n"
      ],
      "text/plain": [
       "  Homepage  License   Topics   \n",
       "1 0.6354492 0.2466598 0.4700389"
      ]
     },
     "metadata": {},
     "output_type": "display_data"
    }
   ],
   "source": [
    "missing_counts <- repositories |> \n",
    "    summarize_all(~ sum(str_trim(.) %in% c(\"\", '[]')))\n",
    "\n",
    "missing_prop <- missing_counts / nrow(repositories)\n",
    "\n",
    "# show only features with missing proportions > 10%\n",
    "missing_prop |> select_if(~. > 0.1)"
   ]
  },
  {
   "cell_type": "code",
   "execution_count": 5,
   "id": "f9a14fbe-c489-4f51-a452-b4b20f766236",
   "metadata": {
    "tags": []
   },
   "outputs": [
    {
     "data": {
      "text/html": [
       "<table class=\"dataframe\">\n",
       "<caption>A data.frame: 6 × 15</caption>\n",
       "<thead>\n",
       "\t<tr><th></th><th scope=col>Size</th><th scope=col>Stars</th><th scope=col>Forks</th><th scope=col>Issues</th><th scope=col>Watchers</th><th scope=col>Language</th><th scope=col>Has.Issues</th><th scope=col>Has.Projects</th><th scope=col>Has.Downloads</th><th scope=col>Has.Wiki</th><th scope=col>Has.Pages</th><th scope=col>Has.Discussions</th><th scope=col>Is.Fork</th><th scope=col>Is.Archived</th><th scope=col>Is.Template</th></tr>\n",
       "\t<tr><th></th><th scope=col>&lt;int&gt;</th><th scope=col>&lt;int&gt;</th><th scope=col>&lt;int&gt;</th><th scope=col>&lt;int&gt;</th><th scope=col>&lt;int&gt;</th><th scope=col>&lt;chr&gt;</th><th scope=col>&lt;chr&gt;</th><th scope=col>&lt;chr&gt;</th><th scope=col>&lt;chr&gt;</th><th scope=col>&lt;chr&gt;</th><th scope=col>&lt;chr&gt;</th><th scope=col>&lt;chr&gt;</th><th scope=col>&lt;chr&gt;</th><th scope=col>&lt;chr&gt;</th><th scope=col>&lt;chr&gt;</th></tr>\n",
       "</thead>\n",
       "<tbody>\n",
       "\t<tr><th scope=row>1</th><td>387451</td><td>374074</td><td>33599</td><td>  248</td><td>374074</td><td>TypeScript</td><td>True </td><td>True </td><td>True</td><td>False</td><td>True </td><td>False</td><td>False</td><td>False</td><td>False</td></tr>\n",
       "\t<tr><th scope=row>2</th><td> 17087</td><td>298393</td><td>57194</td><td>   46</td><td>298393</td><td>          </td><td>True </td><td>False</td><td>True</td><td>False</td><td>True </td><td>False</td><td>False</td><td>False</td><td>False</td></tr>\n",
       "\t<tr><th scope=row>3</th><td>  1441</td><td>269997</td><td>26485</td><td>   61</td><td>269997</td><td>          </td><td>True </td><td>False</td><td>True</td><td>False</td><td>True </td><td>False</td><td>False</td><td>False</td><td>False</td></tr>\n",
       "\t<tr><th scope=row>4</th><td>187799</td><td>267901</td><td>21497</td><td>16712</td><td>267901</td><td>          </td><td>False</td><td>False</td><td>True</td><td>False</td><td>False</td><td>False</td><td>False</td><td>True </td><td>False</td></tr>\n",
       "\t<tr><th scope=row>5</th><td> 20998</td><td>265161</td><td>69434</td><td>   56</td><td>265161</td><td>          </td><td>True </td><td>False</td><td>True</td><td>False</td><td>False</td><td>False</td><td>False</td><td>False</td><td>False</td></tr>\n",
       "\t<tr><th scope=row>6</th><td>  5088</td><td>256615</td><td>29254</td><td>  191</td><td>256615</td><td>Python    </td><td>True </td><td>False</td><td>True</td><td>False</td><td>False</td><td>False</td><td>False</td><td>False</td><td>False</td></tr>\n",
       "</tbody>\n",
       "</table>\n"
      ],
      "text/latex": [
       "A data.frame: 6 × 15\n",
       "\\begin{tabular}{r|lllllllllllllll}\n",
       "  & Size & Stars & Forks & Issues & Watchers & Language & Has.Issues & Has.Projects & Has.Downloads & Has.Wiki & Has.Pages & Has.Discussions & Is.Fork & Is.Archived & Is.Template\\\\\n",
       "  & <int> & <int> & <int> & <int> & <int> & <chr> & <chr> & <chr> & <chr> & <chr> & <chr> & <chr> & <chr> & <chr> & <chr>\\\\\n",
       "\\hline\n",
       "\t1 & 387451 & 374074 & 33599 &   248 & 374074 & TypeScript & True  & True  & True & False & True  & False & False & False & False\\\\\n",
       "\t2 &  17087 & 298393 & 57194 &    46 & 298393 &            & True  & False & True & False & True  & False & False & False & False\\\\\n",
       "\t3 &   1441 & 269997 & 26485 &    61 & 269997 &            & True  & False & True & False & True  & False & False & False & False\\\\\n",
       "\t4 & 187799 & 267901 & 21497 & 16712 & 267901 &            & False & False & True & False & False & False & False & True  & False\\\\\n",
       "\t5 &  20998 & 265161 & 69434 &    56 & 265161 &            & True  & False & True & False & False & False & False & False & False\\\\\n",
       "\t6 &   5088 & 256615 & 29254 &   191 & 256615 & Python     & True  & False & True & False & False & False & False & False & False\\\\\n",
       "\\end{tabular}\n"
      ],
      "text/markdown": [
       "\n",
       "A data.frame: 6 × 15\n",
       "\n",
       "| <!--/--> | Size &lt;int&gt; | Stars &lt;int&gt; | Forks &lt;int&gt; | Issues &lt;int&gt; | Watchers &lt;int&gt; | Language &lt;chr&gt; | Has.Issues &lt;chr&gt; | Has.Projects &lt;chr&gt; | Has.Downloads &lt;chr&gt; | Has.Wiki &lt;chr&gt; | Has.Pages &lt;chr&gt; | Has.Discussions &lt;chr&gt; | Is.Fork &lt;chr&gt; | Is.Archived &lt;chr&gt; | Is.Template &lt;chr&gt; |\n",
       "|---|---|---|---|---|---|---|---|---|---|---|---|---|---|---|---|\n",
       "| 1 | 387451 | 374074 | 33599 |   248 | 374074 | TypeScript | True  | True  | True | False | True  | False | False | False | False |\n",
       "| 2 |  17087 | 298393 | 57194 |    46 | 298393 | <!----> | True  | False | True | False | True  | False | False | False | False |\n",
       "| 3 |   1441 | 269997 | 26485 |    61 | 269997 | <!----> | True  | False | True | False | True  | False | False | False | False |\n",
       "| 4 | 187799 | 267901 | 21497 | 16712 | 267901 | <!----> | False | False | True | False | False | False | False | True  | False |\n",
       "| 5 |  20998 | 265161 | 69434 |    56 | 265161 | <!----> | True  | False | True | False | False | False | False | False | False |\n",
       "| 6 |   5088 | 256615 | 29254 |   191 | 256615 | Python     | True  | False | True | False | False | False | False | False | False |\n",
       "\n"
      ],
      "text/plain": [
       "  Size   Stars  Forks Issues Watchers Language   Has.Issues Has.Projects\n",
       "1 387451 374074 33599   248  374074   TypeScript True       True        \n",
       "2  17087 298393 57194    46  298393              True       False       \n",
       "3   1441 269997 26485    61  269997              True       False       \n",
       "4 187799 267901 21497 16712  267901              False      False       \n",
       "5  20998 265161 69434    56  265161              True       False       \n",
       "6   5088 256615 29254   191  256615   Python     True       False       \n",
       "  Has.Downloads Has.Wiki Has.Pages Has.Discussions Is.Fork Is.Archived\n",
       "1 True          False    True      False           False   False      \n",
       "2 True          False    True      False           False   False      \n",
       "3 True          False    True      False           False   False      \n",
       "4 True          False    False     False           False   True       \n",
       "5 True          False    False     False           False   False      \n",
       "6 True          False    False     False           False   False      \n",
       "  Is.Template\n",
       "1 False      \n",
       "2 False      \n",
       "3 False      \n",
       "4 False      \n",
       "5 False      \n",
       "6 False      "
      ]
     },
     "metadata": {},
     "output_type": "display_data"
    }
   ],
   "source": [
    "repositories <- repositories |>\n",
    "    select(-Name, -Description, -URL, -Created.At, -Updated.At, -Homepage, -License, -Topics, -Default.Branch)\n",
    "head(repositories)"
   ]
  },
  {
   "cell_type": "markdown",
   "id": "e67f7baf-d9df-4ca7-9b60-61e2e83e9d8e",
   "metadata": {},
   "source": [
    "We will focus on the three most common programming languages in the dataset: Python, JavaScript, and Java.\n",
    "\n",
    "Repositories categorized as \"Other\" will be excluded from the analysis. Although \"Other\" is the third most common language, it introduces uncertainty and is not informative since the repository could be any language. "
   ]
  },
  {
   "cell_type": "code",
   "execution_count": 6,
   "id": "01a21f7b-ae5e-48a0-99f6-f91af3e64bd5",
   "metadata": {
    "tags": []
   },
   "outputs": [
    {
     "name": "stderr",
     "output_type": "stream",
     "text": [
      "\u001b[1m\u001b[22mSelecting by n\n"
     ]
    },
    {
     "data": {
      "text/html": [
       "<table class=\"dataframe\">\n",
       "<caption>A data.frame: 10 × 2</caption>\n",
       "<thead>\n",
       "\t<tr><th scope=col>Language</th><th scope=col>n</th></tr>\n",
       "\t<tr><th scope=col>&lt;chr&gt;</th><th scope=col>&lt;int&gt;</th></tr>\n",
       "</thead>\n",
       "<tbody>\n",
       "\t<tr><td>Python    </td><td>34331</td></tr>\n",
       "\t<tr><td>JavaScript</td><td>31831</td></tr>\n",
       "\t<tr><td>          </td><td>16076</td></tr>\n",
       "\t<tr><td>Java      </td><td>15298</td></tr>\n",
       "\t<tr><td>TypeScript</td><td>11670</td></tr>\n",
       "\t<tr><td>C++       </td><td>11391</td></tr>\n",
       "\t<tr><td>Go        </td><td>10712</td></tr>\n",
       "\t<tr><td>C         </td><td> 8907</td></tr>\n",
       "\t<tr><td>C#        </td><td> 7295</td></tr>\n",
       "\t<tr><td>PHP       </td><td> 6741</td></tr>\n",
       "</tbody>\n",
       "</table>\n"
      ],
      "text/latex": [
       "A data.frame: 10 × 2\n",
       "\\begin{tabular}{ll}\n",
       " Language & n\\\\\n",
       " <chr> & <int>\\\\\n",
       "\\hline\n",
       "\t Python     & 34331\\\\\n",
       "\t JavaScript & 31831\\\\\n",
       "\t            & 16076\\\\\n",
       "\t Java       & 15298\\\\\n",
       "\t TypeScript & 11670\\\\\n",
       "\t C++        & 11391\\\\\n",
       "\t Go         & 10712\\\\\n",
       "\t C          &  8907\\\\\n",
       "\t C\\#         &  7295\\\\\n",
       "\t PHP        &  6741\\\\\n",
       "\\end{tabular}\n"
      ],
      "text/markdown": [
       "\n",
       "A data.frame: 10 × 2\n",
       "\n",
       "| Language &lt;chr&gt; | n &lt;int&gt; |\n",
       "|---|---|\n",
       "| Python     | 34331 |\n",
       "| JavaScript | 31831 |\n",
       "| <!----> | 16076 |\n",
       "| Java       | 15298 |\n",
       "| TypeScript | 11670 |\n",
       "| C++        | 11391 |\n",
       "| Go         | 10712 |\n",
       "| C          |  8907 |\n",
       "| C#         |  7295 |\n",
       "| PHP        |  6741 |\n",
       "\n"
      ],
      "text/plain": [
       "   Language   n    \n",
       "1  Python     34331\n",
       "2  JavaScript 31831\n",
       "3             16076\n",
       "4  Java       15298\n",
       "5  TypeScript 11670\n",
       "6  C++        11391\n",
       "7  Go         10712\n",
       "8  C           8907\n",
       "9  C#          7295\n",
       "10 PHP         6741"
      ]
     },
     "metadata": {},
     "output_type": "display_data"
    }
   ],
   "source": [
    "languages <- repositories %>%\n",
    "    count(Language, sort=TRUE)\n",
    "top_n(languages, 10)"
   ]
  },
  {
   "cell_type": "code",
   "execution_count": 7,
   "id": "cb9233b5-7b6a-4df3-95a0-d7c1f6dfa000",
   "metadata": {
    "tags": []
   },
   "outputs": [
    {
     "data": {
      "text/html": [
       "<table class=\"dataframe\">\n",
       "<caption>A data.frame: 6 × 15</caption>\n",
       "<thead>\n",
       "\t<tr><th></th><th scope=col>Size</th><th scope=col>Stars</th><th scope=col>Forks</th><th scope=col>Issues</th><th scope=col>Watchers</th><th scope=col>Language</th><th scope=col>Has.Issues</th><th scope=col>Has.Projects</th><th scope=col>Has.Downloads</th><th scope=col>Has.Wiki</th><th scope=col>Has.Pages</th><th scope=col>Has.Discussions</th><th scope=col>Is.Fork</th><th scope=col>Is.Archived</th><th scope=col>Is.Template</th></tr>\n",
       "\t<tr><th></th><th scope=col>&lt;int&gt;</th><th scope=col>&lt;int&gt;</th><th scope=col>&lt;int&gt;</th><th scope=col>&lt;int&gt;</th><th scope=col>&lt;int&gt;</th><th scope=col>&lt;chr&gt;</th><th scope=col>&lt;chr&gt;</th><th scope=col>&lt;chr&gt;</th><th scope=col>&lt;chr&gt;</th><th scope=col>&lt;chr&gt;</th><th scope=col>&lt;chr&gt;</th><th scope=col>&lt;chr&gt;</th><th scope=col>&lt;chr&gt;</th><th scope=col>&lt;chr&gt;</th><th scope=col>&lt;chr&gt;</th></tr>\n",
       "</thead>\n",
       "<tbody>\n",
       "\t<tr><th scope=row>1</th><td>  5088</td><td>256615</td><td>29254</td><td> 191</td><td>256615</td><td>Python    </td><td>True </td><td>False</td><td>True</td><td>False</td><td>False</td><td>False</td><td>False</td><td>False</td><td>False</td></tr>\n",
       "\t<tr><th scope=row>2</th><td> 11187</td><td>229569</td><td>40474</td><td> 393</td><td>229569</td><td>Python    </td><td>True </td><td>True </td><td>True</td><td>True </td><td>False</td><td>False</td><td>False</td><td>False</td><td>False</td></tr>\n",
       "\t<tr><th scope=row>3</th><td>345964</td><td>213299</td><td>44842</td><td>1497</td><td>213299</td><td>JavaScript</td><td>True </td><td>True </td><td>True</td><td>True </td><td>True </td><td>False</td><td>False</td><td>False</td><td>False</td></tr>\n",
       "\t<tr><th scope=row>4</th><td>  6696</td><td>181326</td><td>23837</td><td> 383</td><td>181326</td><td>Python    </td><td>False</td><td>False</td><td>True</td><td>False</td><td>True </td><td>False</td><td>False</td><td>False</td><td>False</td></tr>\n",
       "\t<tr><th scope=row>5</th><td> 13363</td><td>175401</td><td>28811</td><td> 338</td><td>175401</td><td>JavaScript</td><td>True </td><td>False</td><td>True</td><td>False</td><td>False</td><td>False</td><td>False</td><td>False</td><td>False</td></tr>\n",
       "\t<tr><th scope=row>6</th><td> 13858</td><td>169000</td><td>41926</td><td> 118</td><td>169000</td><td>Python    </td><td>True </td><td>True </td><td>True</td><td>True </td><td>False</td><td>True </td><td>False</td><td>False</td><td>False</td></tr>\n",
       "</tbody>\n",
       "</table>\n"
      ],
      "text/latex": [
       "A data.frame: 6 × 15\n",
       "\\begin{tabular}{r|lllllllllllllll}\n",
       "  & Size & Stars & Forks & Issues & Watchers & Language & Has.Issues & Has.Projects & Has.Downloads & Has.Wiki & Has.Pages & Has.Discussions & Is.Fork & Is.Archived & Is.Template\\\\\n",
       "  & <int> & <int> & <int> & <int> & <int> & <chr> & <chr> & <chr> & <chr> & <chr> & <chr> & <chr> & <chr> & <chr> & <chr>\\\\\n",
       "\\hline\n",
       "\t1 &   5088 & 256615 & 29254 &  191 & 256615 & Python     & True  & False & True & False & False & False & False & False & False\\\\\n",
       "\t2 &  11187 & 229569 & 40474 &  393 & 229569 & Python     & True  & True  & True & True  & False & False & False & False & False\\\\\n",
       "\t3 & 345964 & 213299 & 44842 & 1497 & 213299 & JavaScript & True  & True  & True & True  & True  & False & False & False & False\\\\\n",
       "\t4 &   6696 & 181326 & 23837 &  383 & 181326 & Python     & False & False & True & False & True  & False & False & False & False\\\\\n",
       "\t5 &  13363 & 175401 & 28811 &  338 & 175401 & JavaScript & True  & False & True & False & False & False & False & False & False\\\\\n",
       "\t6 &  13858 & 169000 & 41926 &  118 & 169000 & Python     & True  & True  & True & True  & False & True  & False & False & False\\\\\n",
       "\\end{tabular}\n"
      ],
      "text/markdown": [
       "\n",
       "A data.frame: 6 × 15\n",
       "\n",
       "| <!--/--> | Size &lt;int&gt; | Stars &lt;int&gt; | Forks &lt;int&gt; | Issues &lt;int&gt; | Watchers &lt;int&gt; | Language &lt;chr&gt; | Has.Issues &lt;chr&gt; | Has.Projects &lt;chr&gt; | Has.Downloads &lt;chr&gt; | Has.Wiki &lt;chr&gt; | Has.Pages &lt;chr&gt; | Has.Discussions &lt;chr&gt; | Is.Fork &lt;chr&gt; | Is.Archived &lt;chr&gt; | Is.Template &lt;chr&gt; |\n",
       "|---|---|---|---|---|---|---|---|---|---|---|---|---|---|---|---|\n",
       "| 1 |   5088 | 256615 | 29254 |  191 | 256615 | Python     | True  | False | True | False | False | False | False | False | False |\n",
       "| 2 |  11187 | 229569 | 40474 |  393 | 229569 | Python     | True  | True  | True | True  | False | False | False | False | False |\n",
       "| 3 | 345964 | 213299 | 44842 | 1497 | 213299 | JavaScript | True  | True  | True | True  | True  | False | False | False | False |\n",
       "| 4 |   6696 | 181326 | 23837 |  383 | 181326 | Python     | False | False | True | False | True  | False | False | False | False |\n",
       "| 5 |  13363 | 175401 | 28811 |  338 | 175401 | JavaScript | True  | False | True | False | False | False | False | False | False |\n",
       "| 6 |  13858 | 169000 | 41926 |  118 | 169000 | Python     | True  | True  | True | True  | False | True  | False | False | False |\n",
       "\n"
      ],
      "text/plain": [
       "  Size   Stars  Forks Issues Watchers Language   Has.Issues Has.Projects\n",
       "1   5088 256615 29254  191   256615   Python     True       False       \n",
       "2  11187 229569 40474  393   229569   Python     True       True        \n",
       "3 345964 213299 44842 1497   213299   JavaScript True       True        \n",
       "4   6696 181326 23837  383   181326   Python     False      False       \n",
       "5  13363 175401 28811  338   175401   JavaScript True       False       \n",
       "6  13858 169000 41926  118   169000   Python     True       True        \n",
       "  Has.Downloads Has.Wiki Has.Pages Has.Discussions Is.Fork Is.Archived\n",
       "1 True          False    False     False           False   False      \n",
       "2 True          True     False     False           False   False      \n",
       "3 True          True     True      False           False   False      \n",
       "4 True          False    True      False           False   False      \n",
       "5 True          False    False     False           False   False      \n",
       "6 True          True     False     True            False   False      \n",
       "  Is.Template\n",
       "1 False      \n",
       "2 False      \n",
       "3 False      \n",
       "4 False      \n",
       "5 False      \n",
       "6 False      "
      ]
     },
     "metadata": {},
     "output_type": "display_data"
    }
   ],
   "source": [
    "repositories <- repositories %>%\n",
    "    filter(Language == \"Python\" | Language == \"JavaScript\" | Language == \"Java\")\n",
    "head(repositories)"
   ]
  },
  {
   "cell_type": "markdown",
   "id": "1c812e5a-a1b3-4c3d-94fa-bf3d0392df2c",
   "metadata": {},
   "source": [
    "We will also consider taking a random sample of the data since we are working with a huge dataset regarding the number of observations included. We will continue this analysis by randomly sampling a few thousand out of the 215k observations."
   ]
  },
  {
   "cell_type": "code",
   "execution_count": 8,
   "id": "abad97e1-5528-449a-a12a-c5dba2af7b8c",
   "metadata": {
    "tags": []
   },
   "outputs": [
    {
     "data": {
      "text/html": [
       "<table class=\"dataframe\">\n",
       "<caption>A data.frame: 6 × 15</caption>\n",
       "<thead>\n",
       "\t<tr><th></th><th scope=col>Size</th><th scope=col>Stars</th><th scope=col>Forks</th><th scope=col>Issues</th><th scope=col>Watchers</th><th scope=col>Language</th><th scope=col>Has.Issues</th><th scope=col>Has.Projects</th><th scope=col>Has.Downloads</th><th scope=col>Has.Wiki</th><th scope=col>Has.Pages</th><th scope=col>Has.Discussions</th><th scope=col>Is.Fork</th><th scope=col>Is.Archived</th><th scope=col>Is.Template</th></tr>\n",
       "\t<tr><th></th><th scope=col>&lt;int&gt;</th><th scope=col>&lt;int&gt;</th><th scope=col>&lt;int&gt;</th><th scope=col>&lt;int&gt;</th><th scope=col>&lt;int&gt;</th><th scope=col>&lt;chr&gt;</th><th scope=col>&lt;chr&gt;</th><th scope=col>&lt;chr&gt;</th><th scope=col>&lt;chr&gt;</th><th scope=col>&lt;chr&gt;</th><th scope=col>&lt;chr&gt;</th><th scope=col>&lt;chr&gt;</th><th scope=col>&lt;chr&gt;</th><th scope=col>&lt;chr&gt;</th><th scope=col>&lt;chr&gt;</th></tr>\n",
       "</thead>\n",
       "<tbody>\n",
       "\t<tr><th scope=row>1</th><td>5284</td><td> 326</td><td> 79</td><td>37</td><td> 326</td><td>JavaScript</td><td>True</td><td>True</td><td>True</td><td>True</td><td>False</td><td>False</td><td>False</td><td>False</td><td>False</td></tr>\n",
       "\t<tr><th scope=row>2</th><td>4461</td><td> 325</td><td> 65</td><td> 9</td><td> 325</td><td>Java      </td><td>True</td><td>True</td><td>True</td><td>True</td><td>False</td><td>False</td><td>False</td><td>False</td><td>False</td></tr>\n",
       "\t<tr><th scope=row>3</th><td> 642</td><td> 806</td><td>178</td><td>41</td><td> 806</td><td>JavaScript</td><td>True</td><td>True</td><td>True</td><td>True</td><td>False</td><td>False</td><td>False</td><td>False</td><td>False</td></tr>\n",
       "\t<tr><th scope=row>4</th><td>3578</td><td>2069</td><td>306</td><td>32</td><td>2069</td><td>Java      </td><td>True</td><td>True</td><td>True</td><td>True</td><td>False</td><td>False</td><td>False</td><td>False</td><td>False</td></tr>\n",
       "\t<tr><th scope=row>5</th><td> 321</td><td> 459</td><td> 64</td><td>21</td><td> 459</td><td>Python    </td><td>True</td><td>True</td><td>True</td><td>True</td><td>False</td><td>False</td><td>False</td><td>False</td><td>False</td></tr>\n",
       "\t<tr><th scope=row>6</th><td> 287</td><td> 191</td><td> 54</td><td> 3</td><td> 191</td><td>Java      </td><td>True</td><td>True</td><td>True</td><td>True</td><td>False</td><td>False</td><td>False</td><td>False</td><td>False</td></tr>\n",
       "</tbody>\n",
       "</table>\n"
      ],
      "text/latex": [
       "A data.frame: 6 × 15\n",
       "\\begin{tabular}{r|lllllllllllllll}\n",
       "  & Size & Stars & Forks & Issues & Watchers & Language & Has.Issues & Has.Projects & Has.Downloads & Has.Wiki & Has.Pages & Has.Discussions & Is.Fork & Is.Archived & Is.Template\\\\\n",
       "  & <int> & <int> & <int> & <int> & <int> & <chr> & <chr> & <chr> & <chr> & <chr> & <chr> & <chr> & <chr> & <chr> & <chr>\\\\\n",
       "\\hline\n",
       "\t1 & 5284 &  326 &  79 & 37 &  326 & JavaScript & True & True & True & True & False & False & False & False & False\\\\\n",
       "\t2 & 4461 &  325 &  65 &  9 &  325 & Java       & True & True & True & True & False & False & False & False & False\\\\\n",
       "\t3 &  642 &  806 & 178 & 41 &  806 & JavaScript & True & True & True & True & False & False & False & False & False\\\\\n",
       "\t4 & 3578 & 2069 & 306 & 32 & 2069 & Java       & True & True & True & True & False & False & False & False & False\\\\\n",
       "\t5 &  321 &  459 &  64 & 21 &  459 & Python     & True & True & True & True & False & False & False & False & False\\\\\n",
       "\t6 &  287 &  191 &  54 &  3 &  191 & Java       & True & True & True & True & False & False & False & False & False\\\\\n",
       "\\end{tabular}\n"
      ],
      "text/markdown": [
       "\n",
       "A data.frame: 6 × 15\n",
       "\n",
       "| <!--/--> | Size &lt;int&gt; | Stars &lt;int&gt; | Forks &lt;int&gt; | Issues &lt;int&gt; | Watchers &lt;int&gt; | Language &lt;chr&gt; | Has.Issues &lt;chr&gt; | Has.Projects &lt;chr&gt; | Has.Downloads &lt;chr&gt; | Has.Wiki &lt;chr&gt; | Has.Pages &lt;chr&gt; | Has.Discussions &lt;chr&gt; | Is.Fork &lt;chr&gt; | Is.Archived &lt;chr&gt; | Is.Template &lt;chr&gt; |\n",
       "|---|---|---|---|---|---|---|---|---|---|---|---|---|---|---|---|\n",
       "| 1 | 5284 |  326 |  79 | 37 |  326 | JavaScript | True | True | True | True | False | False | False | False | False |\n",
       "| 2 | 4461 |  325 |  65 |  9 |  325 | Java       | True | True | True | True | False | False | False | False | False |\n",
       "| 3 |  642 |  806 | 178 | 41 |  806 | JavaScript | True | True | True | True | False | False | False | False | False |\n",
       "| 4 | 3578 | 2069 | 306 | 32 | 2069 | Java       | True | True | True | True | False | False | False | False | False |\n",
       "| 5 |  321 |  459 |  64 | 21 |  459 | Python     | True | True | True | True | False | False | False | False | False |\n",
       "| 6 |  287 |  191 |  54 |  3 |  191 | Java       | True | True | True | True | False | False | False | False | False |\n",
       "\n"
      ],
      "text/plain": [
       "  Size Stars Forks Issues Watchers Language   Has.Issues Has.Projects\n",
       "1 5284  326   79   37      326     JavaScript True       True        \n",
       "2 4461  325   65    9      325     Java       True       True        \n",
       "3  642  806  178   41      806     JavaScript True       True        \n",
       "4 3578 2069  306   32     2069     Java       True       True        \n",
       "5  321  459   64   21      459     Python     True       True        \n",
       "6  287  191   54    3      191     Java       True       True        \n",
       "  Has.Downloads Has.Wiki Has.Pages Has.Discussions Is.Fork Is.Archived\n",
       "1 True          True     False     False           False   False      \n",
       "2 True          True     False     False           False   False      \n",
       "3 True          True     False     False           False   False      \n",
       "4 True          True     False     False           False   False      \n",
       "5 True          True     False     False           False   False      \n",
       "6 True          True     False     False           False   False      \n",
       "  Is.Template\n",
       "1 False      \n",
       "2 False      \n",
       "3 False      \n",
       "4 False      \n",
       "5 False      \n",
       "6 False      "
      ]
     },
     "metadata": {},
     "output_type": "display_data"
    },
    {
     "data": {
      "text/html": [
       "<style>\n",
       ".list-inline {list-style: none; margin:0; padding: 0}\n",
       ".list-inline>li {display: inline-block}\n",
       ".list-inline>li:not(:last-child)::after {content: \"\\00b7\"; padding: 0 .5ex}\n",
       "</style>\n",
       "<ol class=list-inline><li>3000</li><li>15</li></ol>\n"
      ],
      "text/latex": [
       "\\begin{enumerate*}\n",
       "\\item 3000\n",
       "\\item 15\n",
       "\\end{enumerate*}\n"
      ],
      "text/markdown": [
       "1. 3000\n",
       "2. 15\n",
       "\n",
       "\n"
      ],
      "text/plain": [
       "[1] 3000   15"
      ]
     },
     "metadata": {},
     "output_type": "display_data"
    }
   ],
   "source": [
    "set.seed(2024)\n",
    "\n",
    "repo_sample <- sample_n(repositories, 3000, replace = FALSE)\n",
    "head(repo_sample)\n",
    "dim(repo_sample)"
   ]
  },
  {
   "cell_type": "markdown",
   "id": "cd9a025b-b100-469e-acfb-d6bdc1cf196f",
   "metadata": {},
   "source": [
    "#### Visualization"
   ]
  },
  {
   "cell_type": "markdown",
   "id": "050951d2-12ef-4748-9022-6f29a153d0ce",
   "metadata": {},
   "source": [
    "### Methods: Plan"
   ]
  },
  {
   "cell_type": "markdown",
   "id": "87187883-31fd-4b30-8e8b-2450bdd406bd",
   "metadata": {},
   "source": [
    "## Discussion"
   ]
  },
  {
   "cell_type": "markdown",
   "id": "af201e19-30e6-4413-92f8-3feaef09b280",
   "metadata": {},
   "source": [
    "## References"
   ]
  },
  {
   "cell_type": "markdown",
   "id": "1c1aa128-5670-46f0-955a-5e0500f57220",
   "metadata": {},
   "source": [
    "Braga, P. H. P., Hébert, K., Hudgins, E. J., Scott, E. R., Edwards, B. P., Sánchez‐Reyes, L. L., Grainger, M., Foroughirad, V., Hillemann, F., Binley, A. D., Brookson, C. B., Gaynor, K. M., Sabet, S. S., Güncan, A., Weierbach, H., Gomes, D. G., & Crystal‐Ornelas, R. (2023). Not just for programmers: How GitHub can accelerate collaborative and reproducible research in ecology and evolution. Methods in Ecology and Evolution, 14(6), 1364–1380. https://doi.org/10.1111/2041-210x.14108\n",
    "\n",
    "Hu, Y., Zhang, J., Bai, X., Yu, S., & Yang, Z. (2016). Influence analysis of Github repositories. SpringerPlus, 5(1). https://doi.org/10.1186/s40064-016-2897-7\n",
    "\n",
    "Madley‐Dowd, P., Hughes, R. A., Tilling, K., & Heron, J. (2019). The proportion of missing data should not be used to guide decisions on multiple imputation. Journal of Clinical Epidemiology, 110, 63–73. https://doi.org/10.1016/j.jclinepi.2019.02.016\n",
    "\n",
    "Most popular GitHub repositories (Projects). (2023, October 1). Kaggle. https://www.kaggle.com/datasets/donbarbos/github-repos/data"
   ]
  }
 ],
 "metadata": {
  "kernelspec": {
   "display_name": "R",
   "language": "R",
   "name": "ir"
  },
  "language_info": {
   "codemirror_mode": "r",
   "file_extension": ".r",
   "mimetype": "text/x-r-source",
   "name": "R",
   "pygments_lexer": "r",
   "version": "4.2.3"
  }
 },
 "nbformat": 4,
 "nbformat_minor": 5
}
