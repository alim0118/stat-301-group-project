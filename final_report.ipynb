{
 "cells": [
  {
   "cell_type": "markdown",
   "id": "71ad38eb-2ed4-4368-a714-fdd959e0172e",
   "metadata": {},
   "source": [
    "# Add title"
   ]
  },
  {
   "cell_type": "markdown",
   "id": "51cc1a34-d41b-4925-a59b-d76bdf04cbc9",
   "metadata": {},
   "source": [
    "## Introduction"
   ]
  },
  {
   "cell_type": "markdown",
   "id": "62e69c98-8734-4447-9439-5dd61e7d8d28",
   "metadata": {},
   "source": [
    "### Data:"
   ]
  },
  {
   "cell_type": "markdown",
   "id": "3728397e-c88c-45f3-a35e-8bed0ccbefac",
   "metadata": {},
   "source": [
    "The data is about GitHub projects with more than 167 stars from other users, indicating the popularity of a repository. It consists of 215029 rows corresponding to the top repositories and 24 attributes such as the name and description, number of forks, watching number, and number of stars. The data was collected using the GitHub Search API, searching for repositories with star counts falling within a specific range. \n",
    "\n",
    "The features include:"
   ]
  },
  {
   "cell_type": "markdown",
   "id": "a84a7afc-3e57-47c5-b7aa-6b3df4b3b46f",
   "metadata": {},
   "source": [
    "1. `Name`: GitHub repository name (chr)\n",
    "2. `Description`: Short text description on purpose or focus of repository (chr)\n",
    "3. `URL`: Unique URL to GitHub repository (chr)\n",
    "4. `Created At`: Date and time repository was created on GitHub, in ISO 8601 format (chr)\n",
    "5. `Updated At`: Date and time of repository's most recent update, in ISO 8601 format (chr)\n",
    "6. `Homepage`: URL to homepage associated with repository (chr)\n",
    "7. `Size`: Size of repository in bytes (int)\n",
    "8. `Stars`: Number of stars repository received from other GitHub users (int)\n",
    "9. `Forks`: Number of forks repository has from other GitHub users (int)\n",
    "10. `Issues`: Total number of open issues (int)\n",
    "11. `Watchers`: Total number of repository \"watchers\" (int)\n",
    "12. `Language`: Primary programming language of repository (chr)\n",
    "13. `License`: Information about software license from a license identifier (chr)\n",
    "14. `Topics`: List of tags associated with repository (chr)\n",
    "15. `Has Issues`: Boolean value indicating whether repository has an issue tracker enabled (chr)\n",
    "16. `Has Projects`: Boolean value indicating whether repository uses GitHub Projects tool (chr)\n",
    "17. `Has Downloads`: Boolean value indicating whether repository has downloadable files for users (chr)\n",
    "18. `Has Wiki`: Boolean value indicating whether repository has an associated Wiki page (chr)\n",
    "19. `Has Pages`: Boolean value indicating whether repository has GitHub Pages enabled (chr)\n",
    "20. `Has Discussions`: Boolean value indicating whether repository has GitHub Discussions enabled (chr)\n",
    "21. `Is Fork`: Boolean value indicating whether repository is a fork of another repository (chr)\n",
    "22. `Is Archived`: Boolean value indicating whether repository is archived (chr)\n",
    "23. `Is Template`: Boolean value indicating whether repository has a template (chr)\n",
    "24. `Default Branch`: Name of default branch (chr)"
   ]
  },
  {
   "cell_type": "markdown",
   "id": "e716d636-d0cd-4435-a92d-d2871799e3b2",
   "metadata": {},
   "source": [
    "### Question"
   ]
  },
  {
   "cell_type": "markdown",
   "id": "e79d7b33-5f70-4bcd-a259-3b9709c8c969",
   "metadata": {},
   "source": [
    "**Question**:"
   ]
  },
  {
   "cell_type": "markdown",
   "id": "71584289-dbd5-4dd1-a4d0-9a02a3d386bc",
   "metadata": {},
   "source": [
    "## Methods and Results"
   ]
  },
  {
   "cell_type": "markdown",
   "id": "4d2c3b32-ea6c-47d7-bfa3-c65c53dc6174",
   "metadata": {},
   "source": [
    "### EDA"
   ]
  },
  {
   "cell_type": "markdown",
   "id": "050951d2-12ef-4748-9022-6f29a153d0ce",
   "metadata": {},
   "source": [
    "### Methods: Plan"
   ]
  },
  {
   "cell_type": "markdown",
   "id": "87187883-31fd-4b30-8e8b-2450bdd406bd",
   "metadata": {},
   "source": [
    "## Discussion"
   ]
  },
  {
   "cell_type": "markdown",
   "id": "af201e19-30e6-4413-92f8-3feaef09b280",
   "metadata": {},
   "source": [
    "## References"
   ]
  }
 ],
 "metadata": {
  "kernelspec": {
   "display_name": "R",
   "language": "R",
   "name": "ir"
  },
  "language_info": {
   "codemirror_mode": "r",
   "file_extension": ".r",
   "mimetype": "text/x-r-source",
   "name": "R",
   "pygments_lexer": "r",
   "version": "4.2.3"
  }
 },
 "nbformat": 4,
 "nbformat_minor": 5
}
