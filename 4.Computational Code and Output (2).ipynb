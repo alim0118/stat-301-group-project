{
 "cells": [
  {
   "cell_type": "markdown",
   "id": "768d934b-b6fa-40aa-822e-cd711b962bb3",
   "metadata": {},
   "source": [
    "#### Brief Description of this dataset"
   ]
  },
  {
   "cell_type": "markdown",
   "id": "8be8593e-86da-4a76-9643-8a0300917549",
   "metadata": {},
   "source": [
    "> `Stars`, `Issues`, and `Language` is the explanatory variables and `Forks` is the response variable of this dataset.\n",
    ">* `Stars`: The number of stars or likes that the repository has received from other GitHub users, indicating its popularity or interest\n",
    ">* `Forks`: The number of times the repository has been forked by other GitHub users\n",
    ">* `Issues`: The total number of open issues (indicating bugs, feature requests, or discussions)\n",
    ">* `Language`: The primary programming language\n",
    ">\n",
    "> I cleaned and wrangled data to include only interested variables and excluded outliers.\n",
    ">\n",
    "> Then used pairwise scatterplots, heatmap, scatterplots, boxplots, and bar-charts to visualize the data. \n",
    "\n",
    " **Question**: This project will aim to explore the relationship between these variables by using \"inference\". Specifically, I am going to investigate if the number of stars and issues within each programming language is related to the change in a number of repositories being forked.\n",
    " \n",
    " **Methods and Plan**: I will implement Multiple Linear Regression (MLR) with backward selection to explore how the number of stars, issues, and programming language are related to GitHub repository forks. I will follow the plan of \"Data Preparation\", \"Model Building\", \"Model Selection\", \"Interpretation\", and \"Assessment & Discussion\". \"Interpretation and Assessment & Discussion\" parts are descripted below the code snippets."
   ]
  },
  {
   "cell_type": "markdown",
   "id": "2d06657e-c723-48f6-b2c9-4012c7be5cde",
   "metadata": {},
   "source": [
    "## Implementation of a proposed model"
   ]
  },
  {
   "cell_type": "code",
   "execution_count": 191,
   "id": "e8fc7afd-2693-4595-a4f3-2fca226e66d5",
   "metadata": {
    "tags": []
   },
   "outputs": [],
   "source": [
    "library(tidyverse)\n",
    "library(gridExtra)\n",
    "library(repr)\n",
    "library(infer)\n",
    "library(cowplot)\n",
    "library(broom)\n",
    "library(GGally)\n",
    "library(AER)\n",
    "library(dplyr)\n",
    "library(MASS)\n",
    "library(leaps)"
   ]
  },
  {
   "cell_type": "markdown",
   "id": "a8d2d2ae-eb2a-489e-bea8-711df883f69a",
   "metadata": {},
   "source": [
    "### Data Preparation\n"
   ]
  },
  {
   "cell_type": "code",
   "execution_count": 192,
   "id": "c57bc008-494d-495a-8304-10e50024f621",
   "metadata": {
    "tags": []
   },
   "outputs": [
    {
     "name": "stderr",
     "output_type": "stream",
     "text": [
      "\u001b[1mRows: \u001b[22m\u001b[34m215029\u001b[39m \u001b[1mColumns: \u001b[22m\u001b[34m24\u001b[39m\n",
      "\u001b[36m──\u001b[39m \u001b[1mColumn specification\u001b[22m \u001b[36m────────────────────────────────────────────────────────\u001b[39m\n",
      "\u001b[1mDelimiter:\u001b[22m \",\"\n",
      "\u001b[31mchr\u001b[39m  (8): Name, Description, URL, Homepage, Language, License, Topics, Defau...\n",
      "\u001b[32mdbl\u001b[39m  (5): Size, Stars, Forks, Issues, Watchers\n",
      "\u001b[33mlgl\u001b[39m  (9): Has Issues, Has Projects, Has Downloads, Has Wiki, Has Pages, Has ...\n",
      "\u001b[34mdttm\u001b[39m (2): Created At, Updated At\n",
      "\n",
      "\u001b[36mℹ\u001b[39m Use `spec()` to retrieve the full column specification for this data.\n",
      "\u001b[36mℹ\u001b[39m Specify the column types or set `show_col_types = FALSE` to quiet this message.\n"
     ]
    },
    {
     "data": {
      "text/html": [
       "<table class=\"dataframe\">\n",
       "<caption>A tibble: 6 × 24</caption>\n",
       "<thead>\n",
       "\t<tr><th scope=col>Name</th><th scope=col>Description</th><th scope=col>URL</th><th scope=col>Created At</th><th scope=col>Updated At</th><th scope=col>Homepage</th><th scope=col>Size</th><th scope=col>Stars</th><th scope=col>Forks</th><th scope=col>Issues</th><th scope=col>⋯</th><th scope=col>Has Issues</th><th scope=col>Has Projects</th><th scope=col>Has Downloads</th><th scope=col>Has Wiki</th><th scope=col>Has Pages</th><th scope=col>Has Discussions</th><th scope=col>Is Fork</th><th scope=col>Is Archived</th><th scope=col>Is Template</th><th scope=col>Default Branch</th></tr>\n",
       "\t<tr><th scope=col>&lt;chr&gt;</th><th scope=col>&lt;chr&gt;</th><th scope=col>&lt;chr&gt;</th><th scope=col>&lt;dttm&gt;</th><th scope=col>&lt;dttm&gt;</th><th scope=col>&lt;chr&gt;</th><th scope=col>&lt;dbl&gt;</th><th scope=col>&lt;dbl&gt;</th><th scope=col>&lt;dbl&gt;</th><th scope=col>&lt;dbl&gt;</th><th scope=col>⋯</th><th scope=col>&lt;lgl&gt;</th><th scope=col>&lt;lgl&gt;</th><th scope=col>&lt;lgl&gt;</th><th scope=col>&lt;lgl&gt;</th><th scope=col>&lt;lgl&gt;</th><th scope=col>&lt;lgl&gt;</th><th scope=col>&lt;lgl&gt;</th><th scope=col>&lt;lgl&gt;</th><th scope=col>&lt;lgl&gt;</th><th scope=col>&lt;chr&gt;</th></tr>\n",
       "</thead>\n",
       "<tbody>\n",
       "\t<tr><td>PythonDataScienceFullThrottle</td><td>Downloads for my Safari Online Learning live training course Python Data Science Full Throttle: Introductory Artificial Intelligence (AI), Big Data and Cloud Case Studies</td><td>https://github.com/pdeitel/PythonDataScienceFullThrottle</td><td>2019-07-18 15:53:01</td><td>2023-09-17 12:20:26</td><td>NA                                           </td><td>182027</td><td> 232</td><td>217</td><td> 3</td><td>⋯</td><td>TRUE</td><td>FALSE</td><td>TRUE</td><td>FALSE</td><td>FALSE</td><td>FALSE</td><td>FALSE</td><td>FALSE</td><td>FALSE</td><td>master</td></tr>\n",
       "\t<tr><td>compose-shimmer              </td><td>A shimmer library for Android's Jetpack Compose.                                                                                                                          </td><td>https://github.com/valentinilk/compose-shimmer          </td><td>2021-08-23 15:18:05</td><td>2023-09-25 14:59:09</td><td>NA                                           </td><td>  4354</td><td> 366</td><td> 22</td><td> 6</td><td>⋯</td><td>TRUE</td><td> TRUE</td><td>TRUE</td><td> TRUE</td><td>FALSE</td><td>FALSE</td><td>FALSE</td><td>FALSE</td><td>FALSE</td><td>master</td></tr>\n",
       "\t<tr><td>a11y                         </td><td>Accessibility audit tooling for the web (beta)                                                                                                                            </td><td>https://github.com/addyosmani/a11y                      </td><td>2014-10-12 17:37:36</td><td>2023-09-08 16:51:19</td><td>http://addyosmani.github.io/a11y/            </td><td> 43015</td><td>1710</td><td> 90</td><td>31</td><td>⋯</td><td>TRUE</td><td> TRUE</td><td>TRUE</td><td>FALSE</td><td> TRUE</td><td>FALSE</td><td>FALSE</td><td> TRUE</td><td>FALSE</td><td>master</td></tr>\n",
       "\t<tr><td>htmlpagedom                  </td><td>jQuery-inspired DOM manipulation extension for Symfony's Crawler                                                                                                          </td><td>https://github.com/wasinger/htmlpagedom                 </td><td>2012-11-16 22:12:10</td><td>2023-09-18 05:46:37</td><td>NA                                           </td><td>   607</td><td> 336</td><td> 63</td><td>12</td><td>⋯</td><td>TRUE</td><td> TRUE</td><td>TRUE</td><td> TRUE</td><td>FALSE</td><td>FALSE</td><td>FALSE</td><td>FALSE</td><td>FALSE</td><td>master</td></tr>\n",
       "\t<tr><td>rest-api-tutorial            </td><td>This is a sample source code for the article published on Toptal: https://www.toptal.com/nodejs/secure-rest-api-in-nodejs                                                 </td><td>https://github.com/makinhs/rest-api-tutorial            </td><td>2018-05-19 23:48:59</td><td>2023-09-23 19:43:58</td><td>NA                                           </td><td>   367</td><td> 416</td><td>314</td><td> 4</td><td>⋯</td><td>TRUE</td><td> TRUE</td><td>TRUE</td><td> TRUE</td><td>FALSE</td><td>FALSE</td><td>FALSE</td><td>FALSE</td><td>FALSE</td><td>master</td></tr>\n",
       "\t<tr><td>PlutoUI.jl                   </td><td>NA                                                                                                                                                                        </td><td>https://github.com/JuliaPluto/PlutoUI.jl                </td><td>2020-04-13 18:35:03</td><td>2023-09-20 08:32:09</td><td>https://featured.plutojl.org/basic/plutoui.jl</td><td>  2736</td><td> 281</td><td> 51</td><td>95</td><td>⋯</td><td>TRUE</td><td> TRUE</td><td>TRUE</td><td> TRUE</td><td> TRUE</td><td>FALSE</td><td>FALSE</td><td>FALSE</td><td>FALSE</td><td>main  </td></tr>\n",
       "</tbody>\n",
       "</table>\n"
      ],
      "text/latex": [
       "A tibble: 6 × 24\n",
       "\\begin{tabular}{lllllllllllllllllllll}\n",
       " Name & Description & URL & Created At & Updated At & Homepage & Size & Stars & Forks & Issues & ⋯ & Has Issues & Has Projects & Has Downloads & Has Wiki & Has Pages & Has Discussions & Is Fork & Is Archived & Is Template & Default Branch\\\\\n",
       " <chr> & <chr> & <chr> & <dttm> & <dttm> & <chr> & <dbl> & <dbl> & <dbl> & <dbl> & ⋯ & <lgl> & <lgl> & <lgl> & <lgl> & <lgl> & <lgl> & <lgl> & <lgl> & <lgl> & <chr>\\\\\n",
       "\\hline\n",
       "\t PythonDataScienceFullThrottle & Downloads for my Safari Online Learning live training course Python Data Science Full Throttle: Introductory Artificial Intelligence (AI), Big Data and Cloud Case Studies & https://github.com/pdeitel/PythonDataScienceFullThrottle & 2019-07-18 15:53:01 & 2023-09-17 12:20:26 & NA                                            & 182027 &  232 & 217 &  3 & ⋯ & TRUE & FALSE & TRUE & FALSE & FALSE & FALSE & FALSE & FALSE & FALSE & master\\\\\n",
       "\t compose-shimmer               & A shimmer library for Android's Jetpack Compose.                                                                                                                           & https://github.com/valentinilk/compose-shimmer           & 2021-08-23 15:18:05 & 2023-09-25 14:59:09 & NA                                            &   4354 &  366 &  22 &  6 & ⋯ & TRUE &  TRUE & TRUE &  TRUE & FALSE & FALSE & FALSE & FALSE & FALSE & master\\\\\n",
       "\t a11y                          & Accessibility audit tooling for the web (beta)                                                                                                                             & https://github.com/addyosmani/a11y                       & 2014-10-12 17:37:36 & 2023-09-08 16:51:19 & http://addyosmani.github.io/a11y/             &  43015 & 1710 &  90 & 31 & ⋯ & TRUE &  TRUE & TRUE & FALSE &  TRUE & FALSE & FALSE &  TRUE & FALSE & master\\\\\n",
       "\t htmlpagedom                   & jQuery-inspired DOM manipulation extension for Symfony's Crawler                                                                                                           & https://github.com/wasinger/htmlpagedom                  & 2012-11-16 22:12:10 & 2023-09-18 05:46:37 & NA                                            &    607 &  336 &  63 & 12 & ⋯ & TRUE &  TRUE & TRUE &  TRUE & FALSE & FALSE & FALSE & FALSE & FALSE & master\\\\\n",
       "\t rest-api-tutorial             & This is a sample source code for the article published on Toptal: https://www.toptal.com/nodejs/secure-rest-api-in-nodejs                                                  & https://github.com/makinhs/rest-api-tutorial             & 2018-05-19 23:48:59 & 2023-09-23 19:43:58 & NA                                            &    367 &  416 & 314 &  4 & ⋯ & TRUE &  TRUE & TRUE &  TRUE & FALSE & FALSE & FALSE & FALSE & FALSE & master\\\\\n",
       "\t PlutoUI.jl                    & NA                                                                                                                                                                         & https://github.com/JuliaPluto/PlutoUI.jl                 & 2020-04-13 18:35:03 & 2023-09-20 08:32:09 & https://featured.plutojl.org/basic/plutoui.jl &   2736 &  281 &  51 & 95 & ⋯ & TRUE &  TRUE & TRUE &  TRUE &  TRUE & FALSE & FALSE & FALSE & FALSE & main  \\\\\n",
       "\\end{tabular}\n"
      ],
      "text/markdown": [
       "\n",
       "A tibble: 6 × 24\n",
       "\n",
       "| Name &lt;chr&gt; | Description &lt;chr&gt; | URL &lt;chr&gt; | Created At &lt;dttm&gt; | Updated At &lt;dttm&gt; | Homepage &lt;chr&gt; | Size &lt;dbl&gt; | Stars &lt;dbl&gt; | Forks &lt;dbl&gt; | Issues &lt;dbl&gt; | ⋯ ⋯ | Has Issues &lt;lgl&gt; | Has Projects &lt;lgl&gt; | Has Downloads &lt;lgl&gt; | Has Wiki &lt;lgl&gt; | Has Pages &lt;lgl&gt; | Has Discussions &lt;lgl&gt; | Is Fork &lt;lgl&gt; | Is Archived &lt;lgl&gt; | Is Template &lt;lgl&gt; | Default Branch &lt;chr&gt; |\n",
       "|---|---|---|---|---|---|---|---|---|---|---|---|---|---|---|---|---|---|---|---|---|\n",
       "| PythonDataScienceFullThrottle | Downloads for my Safari Online Learning live training course Python Data Science Full Throttle: Introductory Artificial Intelligence (AI), Big Data and Cloud Case Studies | https://github.com/pdeitel/PythonDataScienceFullThrottle | 2019-07-18 15:53:01 | 2023-09-17 12:20:26 | NA                                            | 182027 |  232 | 217 |  3 | ⋯ | TRUE | FALSE | TRUE | FALSE | FALSE | FALSE | FALSE | FALSE | FALSE | master |\n",
       "| compose-shimmer               | A shimmer library for Android's Jetpack Compose.                                                                                                                           | https://github.com/valentinilk/compose-shimmer           | 2021-08-23 15:18:05 | 2023-09-25 14:59:09 | NA                                            |   4354 |  366 |  22 |  6 | ⋯ | TRUE |  TRUE | TRUE |  TRUE | FALSE | FALSE | FALSE | FALSE | FALSE | master |\n",
       "| a11y                          | Accessibility audit tooling for the web (beta)                                                                                                                             | https://github.com/addyosmani/a11y                       | 2014-10-12 17:37:36 | 2023-09-08 16:51:19 | http://addyosmani.github.io/a11y/             |  43015 | 1710 |  90 | 31 | ⋯ | TRUE |  TRUE | TRUE | FALSE |  TRUE | FALSE | FALSE |  TRUE | FALSE | master |\n",
       "| htmlpagedom                   | jQuery-inspired DOM manipulation extension for Symfony's Crawler                                                                                                           | https://github.com/wasinger/htmlpagedom                  | 2012-11-16 22:12:10 | 2023-09-18 05:46:37 | NA                                            |    607 |  336 |  63 | 12 | ⋯ | TRUE |  TRUE | TRUE |  TRUE | FALSE | FALSE | FALSE | FALSE | FALSE | master |\n",
       "| rest-api-tutorial             | This is a sample source code for the article published on Toptal: https://www.toptal.com/nodejs/secure-rest-api-in-nodejs                                                  | https://github.com/makinhs/rest-api-tutorial             | 2018-05-19 23:48:59 | 2023-09-23 19:43:58 | NA                                            |    367 |  416 | 314 |  4 | ⋯ | TRUE |  TRUE | TRUE |  TRUE | FALSE | FALSE | FALSE | FALSE | FALSE | master |\n",
       "| PlutoUI.jl                    | NA                                                                                                                                                                         | https://github.com/JuliaPluto/PlutoUI.jl                 | 2020-04-13 18:35:03 | 2023-09-20 08:32:09 | https://featured.plutojl.org/basic/plutoui.jl |   2736 |  281 |  51 | 95 | ⋯ | TRUE |  TRUE | TRUE |  TRUE |  TRUE | FALSE | FALSE | FALSE | FALSE | main   |\n",
       "\n"
      ],
      "text/plain": [
       "  Name                         \n",
       "1 PythonDataScienceFullThrottle\n",
       "2 compose-shimmer              \n",
       "3 a11y                         \n",
       "4 htmlpagedom                  \n",
       "5 rest-api-tutorial            \n",
       "6 PlutoUI.jl                   \n",
       "  Description                                                                                                                                                               \n",
       "1 Downloads for my Safari Online Learning live training course Python Data Science Full Throttle: Introductory Artificial Intelligence (AI), Big Data and Cloud Case Studies\n",
       "2 A shimmer library for Android's Jetpack Compose.                                                                                                                          \n",
       "3 Accessibility audit tooling for the web (beta)                                                                                                                            \n",
       "4 jQuery-inspired DOM manipulation extension for Symfony's Crawler                                                                                                          \n",
       "5 This is a sample source code for the article published on Toptal: https://www.toptal.com/nodejs/secure-rest-api-in-nodejs                                                 \n",
       "6 NA                                                                                                                                                                        \n",
       "  URL                                                      Created At         \n",
       "1 https://github.com/pdeitel/PythonDataScienceFullThrottle 2019-07-18 15:53:01\n",
       "2 https://github.com/valentinilk/compose-shimmer           2021-08-23 15:18:05\n",
       "3 https://github.com/addyosmani/a11y                       2014-10-12 17:37:36\n",
       "4 https://github.com/wasinger/htmlpagedom                  2012-11-16 22:12:10\n",
       "5 https://github.com/makinhs/rest-api-tutorial             2018-05-19 23:48:59\n",
       "6 https://github.com/JuliaPluto/PlutoUI.jl                 2020-04-13 18:35:03\n",
       "  Updated At          Homepage                                      Size  \n",
       "1 2023-09-17 12:20:26 NA                                            182027\n",
       "2 2023-09-25 14:59:09 NA                                              4354\n",
       "3 2023-09-08 16:51:19 http://addyosmani.github.io/a11y/              43015\n",
       "4 2023-09-18 05:46:37 NA                                               607\n",
       "5 2023-09-23 19:43:58 NA                                               367\n",
       "6 2023-09-20 08:32:09 https://featured.plutojl.org/basic/plutoui.jl   2736\n",
       "  Stars Forks Issues ⋯ Has Issues Has Projects Has Downloads Has Wiki Has Pages\n",
       "1  232  217    3     ⋯ TRUE       FALSE        TRUE          FALSE    FALSE    \n",
       "2  366   22    6     ⋯ TRUE        TRUE        TRUE           TRUE    FALSE    \n",
       "3 1710   90   31     ⋯ TRUE        TRUE        TRUE          FALSE     TRUE    \n",
       "4  336   63   12     ⋯ TRUE        TRUE        TRUE           TRUE    FALSE    \n",
       "5  416  314    4     ⋯ TRUE        TRUE        TRUE           TRUE    FALSE    \n",
       "6  281   51   95     ⋯ TRUE        TRUE        TRUE           TRUE     TRUE    \n",
       "  Has Discussions Is Fork Is Archived Is Template Default Branch\n",
       "1 FALSE           FALSE   FALSE       FALSE       master        \n",
       "2 FALSE           FALSE   FALSE       FALSE       master        \n",
       "3 FALSE           FALSE    TRUE       FALSE       master        \n",
       "4 FALSE           FALSE   FALSE       FALSE       master        \n",
       "5 FALSE           FALSE   FALSE       FALSE       master        \n",
       "6 FALSE           FALSE   FALSE       FALSE       main          "
      ]
     },
     "metadata": {},
     "output_type": "display_data"
    }
   ],
   "source": [
    "github_data <- read_csv(\"repositories.csv\")\n",
    "github_sample <- github_data[sample(nrow(github_data), 5000),]\n",
    "head(github_sample)"
   ]
  },
  {
   "cell_type": "code",
   "execution_count": 193,
   "id": "c90773b4-f6ae-4485-acdd-61a53cae6dc3",
   "metadata": {
    "tags": []
   },
   "outputs": [
    {
     "data": {
      "text/html": [
       "<table class=\"dataframe\">\n",
       "<caption>A tibble: 6 × 4</caption>\n",
       "<thead>\n",
       "\t<tr><th scope=col>Stars</th><th scope=col>Forks</th><th scope=col>Issues</th><th scope=col>Language</th></tr>\n",
       "\t<tr><th scope=col>&lt;dbl&gt;</th><th scope=col>&lt;dbl&gt;</th><th scope=col>&lt;dbl&gt;</th><th scope=col>&lt;chr&gt;</th></tr>\n",
       "</thead>\n",
       "<tbody>\n",
       "\t<tr><td>830</td><td>130</td><td>27</td><td>Java      </td></tr>\n",
       "\t<tr><td>184</td><td> 92</td><td>37</td><td>Python    </td></tr>\n",
       "\t<tr><td>506</td><td> 89</td><td>33</td><td>JavaScript</td></tr>\n",
       "\t<tr><td>385</td><td> 66</td><td> 7</td><td>Java      </td></tr>\n",
       "\t<tr><td>220</td><td> 29</td><td>23</td><td>Java      </td></tr>\n",
       "\t<tr><td>437</td><td> 74</td><td>16</td><td>Python    </td></tr>\n",
       "</tbody>\n",
       "</table>\n"
      ],
      "text/latex": [
       "A tibble: 6 × 4\n",
       "\\begin{tabular}{llll}\n",
       " Stars & Forks & Issues & Language\\\\\n",
       " <dbl> & <dbl> & <dbl> & <chr>\\\\\n",
       "\\hline\n",
       "\t 830 & 130 & 27 & Java      \\\\\n",
       "\t 184 &  92 & 37 & Python    \\\\\n",
       "\t 506 &  89 & 33 & JavaScript\\\\\n",
       "\t 385 &  66 &  7 & Java      \\\\\n",
       "\t 220 &  29 & 23 & Java      \\\\\n",
       "\t 437 &  74 & 16 & Python    \\\\\n",
       "\\end{tabular}\n"
      ],
      "text/markdown": [
       "\n",
       "A tibble: 6 × 4\n",
       "\n",
       "| Stars &lt;dbl&gt; | Forks &lt;dbl&gt; | Issues &lt;dbl&gt; | Language &lt;chr&gt; |\n",
       "|---|---|---|---|\n",
       "| 830 | 130 | 27 | Java       |\n",
       "| 184 |  92 | 37 | Python     |\n",
       "| 506 |  89 | 33 | JavaScript |\n",
       "| 385 |  66 |  7 | Java       |\n",
       "| 220 |  29 | 23 | Java       |\n",
       "| 437 |  74 | 16 | Python     |\n",
       "\n"
      ],
      "text/plain": [
       "  Stars Forks Issues Language  \n",
       "1 830   130   27     Java      \n",
       "2 184    92   37     Python    \n",
       "3 506    89   33     JavaScript\n",
       "4 385    66    7     Java      \n",
       "5 220    29   23     Java      \n",
       "6 437    74   16     Python    "
      ]
     },
     "metadata": {},
     "output_type": "display_data"
    }
   ],
   "source": [
    "# Include only four main languages\n",
    "github_sample <- subset(github_sample, Language %in% c(\"Python\", \"JavaScript\", \"Java\", \"C++\"))\n",
    "\n",
    "# Excluding the outliers\n",
    "github_sample <- github_sample %>%\n",
    "                 filter(Forks <= 250 & Stars <= 1000 & Issues <= 60)\n",
    "\n",
    "# Data we will use \n",
    "github_data <- github_sample[, c(\"Stars\", \"Forks\", \"Issues\",\"Language\")]\n",
    "head(github_data)"
   ]
  },
  {
   "cell_type": "markdown",
   "id": "156168f6-ecd8-425f-82a2-5620b5bf5061",
   "metadata": {},
   "source": [
    "#### Create dummy variable"
   ]
  },
  {
   "cell_type": "code",
   "execution_count": 194,
   "id": "0c80ffa2-3481-46bc-adcc-3895daa9909c",
   "metadata": {
    "tags": []
   },
   "outputs": [
    {
     "data": {
      "text/html": [
       "<table class=\"dataframe\">\n",
       "<caption>A tibble: 6 × 4</caption>\n",
       "<thead>\n",
       "\t<tr><th scope=col>Stars</th><th scope=col>Forks</th><th scope=col>Issues</th><th scope=col>dummy_language</th></tr>\n",
       "\t<tr><th scope=col>&lt;dbl&gt;</th><th scope=col>&lt;dbl&gt;</th><th scope=col>&lt;dbl&gt;</th><th scope=col>&lt;dbl&gt;</th></tr>\n",
       "</thead>\n",
       "<tbody>\n",
       "\t<tr><td>830</td><td>130</td><td>27</td><td>1</td></tr>\n",
       "\t<tr><td>184</td><td> 92</td><td>37</td><td>3</td></tr>\n",
       "\t<tr><td>506</td><td> 89</td><td>33</td><td>2</td></tr>\n",
       "\t<tr><td>385</td><td> 66</td><td> 7</td><td>1</td></tr>\n",
       "\t<tr><td>220</td><td> 29</td><td>23</td><td>1</td></tr>\n",
       "\t<tr><td>437</td><td> 74</td><td>16</td><td>3</td></tr>\n",
       "</tbody>\n",
       "</table>\n"
      ],
      "text/latex": [
       "A tibble: 6 × 4\n",
       "\\begin{tabular}{llll}\n",
       " Stars & Forks & Issues & dummy\\_language\\\\\n",
       " <dbl> & <dbl> & <dbl> & <dbl>\\\\\n",
       "\\hline\n",
       "\t 830 & 130 & 27 & 1\\\\\n",
       "\t 184 &  92 & 37 & 3\\\\\n",
       "\t 506 &  89 & 33 & 2\\\\\n",
       "\t 385 &  66 &  7 & 1\\\\\n",
       "\t 220 &  29 & 23 & 1\\\\\n",
       "\t 437 &  74 & 16 & 3\\\\\n",
       "\\end{tabular}\n"
      ],
      "text/markdown": [
       "\n",
       "A tibble: 6 × 4\n",
       "\n",
       "| Stars &lt;dbl&gt; | Forks &lt;dbl&gt; | Issues &lt;dbl&gt; | dummy_language &lt;dbl&gt; |\n",
       "|---|---|---|---|\n",
       "| 830 | 130 | 27 | 1 |\n",
       "| 184 |  92 | 37 | 3 |\n",
       "| 506 |  89 | 33 | 2 |\n",
       "| 385 |  66 |  7 | 1 |\n",
       "| 220 |  29 | 23 | 1 |\n",
       "| 437 |  74 | 16 | 3 |\n",
       "\n"
      ],
      "text/plain": [
       "  Stars Forks Issues dummy_language\n",
       "1 830   130   27     1             \n",
       "2 184    92   37     3             \n",
       "3 506    89   33     2             \n",
       "4 385    66    7     1             \n",
       "5 220    29   23     1             \n",
       "6 437    74   16     3             "
      ]
     },
     "metadata": {},
     "output_type": "display_data"
    }
   ],
   "source": [
    "github_data <- github_data %>%\n",
    "  mutate_at(vars(Language), as.factor) %>%\n",
    "  mutate(dummy_language = as.numeric(Language) - 1)\n",
    "\n",
    "github_data <- github_data[, c(\"Stars\", \"Forks\", \"Issues\",\"dummy_language\")]\n",
    "\n",
    "\n",
    "head(github_data)"
   ]
  },
  {
   "cell_type": "markdown",
   "id": "ce0115e6-1477-4482-b4d0-fdd58e81b1d0",
   "metadata": {},
   "source": [
    "### Model Building"
   ]
  },
  {
   "cell_type": "markdown",
   "id": "2c64a497-07a3-46a2-a308-ad38efcad50a",
   "metadata": {},
   "source": [
    "#### Split Training/Test data"
   ]
  },
  {
   "cell_type": "code",
   "execution_count": 195,
   "id": "57df28ce-7ad5-41d4-a2be-0452ac8d1345",
   "metadata": {
    "tags": []
   },
   "outputs": [
    {
     "data": {
      "text/html": [
       "<table class=\"dataframe\">\n",
       "<caption>A tibble: 6 × 4</caption>\n",
       "<thead>\n",
       "\t<tr><th scope=col>Stars</th><th scope=col>Forks</th><th scope=col>Issues</th><th scope=col>dummy_language</th></tr>\n",
       "\t<tr><th scope=col>&lt;dbl&gt;</th><th scope=col>&lt;dbl&gt;</th><th scope=col>&lt;dbl&gt;</th><th scope=col>&lt;dbl&gt;</th></tr>\n",
       "</thead>\n",
       "<tbody>\n",
       "\t<tr><td>318</td><td> 53</td><td> 0</td><td>1</td></tr>\n",
       "\t<tr><td>321</td><td> 52</td><td> 1</td><td>3</td></tr>\n",
       "\t<tr><td>339</td><td> 76</td><td> 1</td><td>1</td></tr>\n",
       "\t<tr><td>389</td><td>227</td><td> 4</td><td>2</td></tr>\n",
       "\t<tr><td>192</td><td> 41</td><td> 5</td><td>1</td></tr>\n",
       "\t<tr><td>423</td><td>129</td><td>23</td><td>3</td></tr>\n",
       "</tbody>\n",
       "</table>\n"
      ],
      "text/latex": [
       "A tibble: 6 × 4\n",
       "\\begin{tabular}{llll}\n",
       " Stars & Forks & Issues & dummy\\_language\\\\\n",
       " <dbl> & <dbl> & <dbl> & <dbl>\\\\\n",
       "\\hline\n",
       "\t 318 &  53 &  0 & 1\\\\\n",
       "\t 321 &  52 &  1 & 3\\\\\n",
       "\t 339 &  76 &  1 & 1\\\\\n",
       "\t 389 & 227 &  4 & 2\\\\\n",
       "\t 192 &  41 &  5 & 1\\\\\n",
       "\t 423 & 129 & 23 & 3\\\\\n",
       "\\end{tabular}\n"
      ],
      "text/markdown": [
       "\n",
       "A tibble: 6 × 4\n",
       "\n",
       "| Stars &lt;dbl&gt; | Forks &lt;dbl&gt; | Issues &lt;dbl&gt; | dummy_language &lt;dbl&gt; |\n",
       "|---|---|---|---|\n",
       "| 318 |  53 |  0 | 1 |\n",
       "| 321 |  52 |  1 | 3 |\n",
       "| 339 |  76 |  1 | 1 |\n",
       "| 389 | 227 |  4 | 2 |\n",
       "| 192 |  41 |  5 | 1 |\n",
       "| 423 | 129 | 23 | 3 |\n",
       "\n"
      ],
      "text/plain": [
       "  Stars Forks Issues dummy_language\n",
       "1 318    53    0     1             \n",
       "2 321    52    1     3             \n",
       "3 339    76    1     1             \n",
       "4 389   227    4     2             \n",
       "5 192    41    5     1             \n",
       "6 423   129   23     3             "
      ]
     },
     "metadata": {},
     "output_type": "display_data"
    },
    {
     "name": "stderr",
     "output_type": "stream",
     "text": [
      "\u001b[1m\u001b[22mJoining with `by = join_by(Stars, Forks, Issues, dummy_language)`\n"
     ]
    },
    {
     "data": {
      "text/html": [
       "<table class=\"dataframe\">\n",
       "<caption>A tibble: 6 × 4</caption>\n",
       "<thead>\n",
       "\t<tr><th scope=col>Stars</th><th scope=col>Forks</th><th scope=col>Issues</th><th scope=col>dummy_language</th></tr>\n",
       "\t<tr><th scope=col>&lt;dbl&gt;</th><th scope=col>&lt;dbl&gt;</th><th scope=col>&lt;dbl&gt;</th><th scope=col>&lt;dbl&gt;</th></tr>\n",
       "</thead>\n",
       "<tbody>\n",
       "\t<tr><td>506</td><td> 89</td><td>33</td><td>2</td></tr>\n",
       "\t<tr><td>328</td><td>110</td><td> 9</td><td>3</td></tr>\n",
       "\t<tr><td>686</td><td>109</td><td> 4</td><td>3</td></tr>\n",
       "\t<tr><td>188</td><td> 30</td><td> 9</td><td>3</td></tr>\n",
       "\t<tr><td>307</td><td> 21</td><td> 0</td><td>2</td></tr>\n",
       "\t<tr><td>194</td><td> 20</td><td> 7</td><td>1</td></tr>\n",
       "</tbody>\n",
       "</table>\n"
      ],
      "text/latex": [
       "A tibble: 6 × 4\n",
       "\\begin{tabular}{llll}\n",
       " Stars & Forks & Issues & dummy\\_language\\\\\n",
       " <dbl> & <dbl> & <dbl> & <dbl>\\\\\n",
       "\\hline\n",
       "\t 506 &  89 & 33 & 2\\\\\n",
       "\t 328 & 110 &  9 & 3\\\\\n",
       "\t 686 & 109 &  4 & 3\\\\\n",
       "\t 188 &  30 &  9 & 3\\\\\n",
       "\t 307 &  21 &  0 & 2\\\\\n",
       "\t 194 &  20 &  7 & 1\\\\\n",
       "\\end{tabular}\n"
      ],
      "text/markdown": [
       "\n",
       "A tibble: 6 × 4\n",
       "\n",
       "| Stars &lt;dbl&gt; | Forks &lt;dbl&gt; | Issues &lt;dbl&gt; | dummy_language &lt;dbl&gt; |\n",
       "|---|---|---|---|\n",
       "| 506 |  89 | 33 | 2 |\n",
       "| 328 | 110 |  9 | 3 |\n",
       "| 686 | 109 |  4 | 3 |\n",
       "| 188 |  30 |  9 | 3 |\n",
       "| 307 |  21 |  0 | 2 |\n",
       "| 194 |  20 |  7 | 1 |\n",
       "\n"
      ],
      "text/plain": [
       "  Stars Forks Issues dummy_language\n",
       "1 506    89   33     2             \n",
       "2 328   110    9     3             \n",
       "3 686   109    4     3             \n",
       "4 188    30    9     3             \n",
       "5 307    21    0     2             \n",
       "6 194    20    7     1             "
      ]
     },
     "metadata": {},
     "output_type": "display_data"
    }
   ],
   "source": [
    "set.seed(123)  \n",
    "\n",
    "training_data <- sample_n(github_data, size = nrow(github_data) * 0.70, replace = FALSE)\n",
    "head(training_data)\n",
    "\n",
    "test_data <- anti_join(github_data, training_data)\n",
    "head(test_data)"
   ]
  },
  {
   "cell_type": "markdown",
   "id": "76d59fb1-e6d5-4bb9-8c1f-70373e352b0f",
   "metadata": {},
   "source": [
    "#### Backward Selection"
   ]
  },
  {
   "cell_type": "code",
   "execution_count": 196,
   "id": "a1bb532b-53a7-4c0e-bcd1-fa866774b16e",
   "metadata": {
    "tags": []
   },
   "outputs": [
    {
     "data": {
      "text/plain": [
       "Subset selection object\n",
       "Call: regsubsets.formula(x = Forks ~ ., nvmax = 3, data = training_data, \n",
       "    method = \"backward\")\n",
       "3 Variables  (and intercept)\n",
       "               Forced in Forced out\n",
       "Stars              FALSE      FALSE\n",
       "Issues             FALSE      FALSE\n",
       "dummy_language     FALSE      FALSE\n",
       "1 subsets of each size up to 3\n",
       "Selection Algorithm: backward\n",
       "         Stars Issues dummy_language\n",
       "1  ( 1 ) \"*\"   \" \"    \" \"           \n",
       "2  ( 1 ) \"*\"   \"*\"    \" \"           \n",
       "3  ( 1 ) \"*\"   \"*\"    \"*\"           "
      ]
     },
     "metadata": {},
     "output_type": "display_data"
    },
    {
     "data": {
      "text/html": [
       "<table class=\"dataframe\">\n",
       "<caption>A data.frame: 3 × 4</caption>\n",
       "<thead>\n",
       "\t<tr><th scope=col>n_input_variables</th><th scope=col>RSQ</th><th scope=col>RSS</th><th scope=col>ADJ.R2</th></tr>\n",
       "\t<tr><th scope=col>&lt;int&gt;</th><th scope=col>&lt;dbl&gt;</th><th scope=col>&lt;dbl&gt;</th><th scope=col>&lt;dbl&gt;</th></tr>\n",
       "</thead>\n",
       "<tbody>\n",
       "\t<tr><td>1</td><td>0.1983168</td><td>2382288</td><td>0.1975377</td></tr>\n",
       "\t<tr><td>2</td><td>0.2194730</td><td>2319420</td><td>0.2179545</td></tr>\n",
       "\t<tr><td>3</td><td>0.2227237</td><td>2309760</td><td>0.2204532</td></tr>\n",
       "</tbody>\n",
       "</table>\n"
      ],
      "text/latex": [
       "A data.frame: 3 × 4\n",
       "\\begin{tabular}{llll}\n",
       " n\\_input\\_variables & RSQ & RSS & ADJ.R2\\\\\n",
       " <int> & <dbl> & <dbl> & <dbl>\\\\\n",
       "\\hline\n",
       "\t 1 & 0.1983168 & 2382288 & 0.1975377\\\\\n",
       "\t 2 & 0.2194730 & 2319420 & 0.2179545\\\\\n",
       "\t 3 & 0.2227237 & 2309760 & 0.2204532\\\\\n",
       "\\end{tabular}\n"
      ],
      "text/markdown": [
       "\n",
       "A data.frame: 3 × 4\n",
       "\n",
       "| n_input_variables &lt;int&gt; | RSQ &lt;dbl&gt; | RSS &lt;dbl&gt; | ADJ.R2 &lt;dbl&gt; |\n",
       "|---|---|---|---|\n",
       "| 1 | 0.1983168 | 2382288 | 0.1975377 |\n",
       "| 2 | 0.2194730 | 2319420 | 0.2179545 |\n",
       "| 3 | 0.2227237 | 2309760 | 0.2204532 |\n",
       "\n"
      ],
      "text/plain": [
       "  n_input_variables RSQ       RSS     ADJ.R2   \n",
       "1 1                 0.1983168 2382288 0.1975377\n",
       "2 2                 0.2194730 2319420 0.2179545\n",
       "3 3                 0.2227237 2309760 0.2204532"
      ]
     },
     "metadata": {},
     "output_type": "display_data"
    }
   ],
   "source": [
    "backward <- regsubsets(\n",
    "    x = Forks ~ ., \n",
    "    nvmax = 3,  \n",
    "    data = training_data,  \n",
    "    method = \"backward\"  \n",
    ")\n",
    "\n",
    "backward_sum <- summary(backward)\n",
    "\n",
    "bwd_summary_df <- data.frame(\n",
    "   n_input_variables = 1:3,\n",
    "   RSQ = backward_sum$rsq,\n",
    "   RSS = backward_sum$rss,\n",
    "   ADJ.R2 = backward_sum$adjr2\n",
    ")\n",
    "\n",
    "backward_sum\n",
    "bwd_summary_df\n",
    "\n"
   ]
  },
  {
   "cell_type": "markdown",
   "id": "3dc4bbee-aa18-4203-a668-402050388043",
   "metadata": {},
   "source": [
    "The summary table displays $R^2$ (RSQ), Residual Sum of Squares (RSS), and Adjusted-$R^2$ (ADJ.R2), for each subset of variables selected. These results suggest that including more predictors in the model leads to better performance in explaining the variability in GitHub repository forks, as evidenced by higher R-squared and adjusted R-squared values and lower RSS. Overall, the selected variables improve the model's prediction ability and provide direction for determining important variables influencing Github repositories `Forks`."
   ]
  },
  {
   "cell_type": "markdown",
   "id": "79933075-043d-4f00-8da8-d9bbe8cc7147",
   "metadata": {},
   "source": [
    "#### Multiple Linear Regression (MLR)"
   ]
  },
  {
   "cell_type": "code",
   "execution_count": 200,
   "id": "de7c39b9-d06f-49d6-a6d2-9334195bcee2",
   "metadata": {
    "tags": []
   },
   "outputs": [
    {
     "data": {
      "text/plain": [
       "\n",
       "Call:\n",
       "lm(formula = Forks ~ Stars + Issues + dummy_language, data = training_data)\n",
       "\n",
       "Residuals:\n",
       "    Min      1Q  Median      3Q     Max \n",
       "-117.64  -32.54  -10.63   25.00  167.75 \n",
       "\n",
       "Coefficients:\n",
       "                Estimate Std. Error t value Pr(>|t|)    \n",
       "(Intercept)    31.020713   4.240457   7.315 5.16e-13 ***\n",
       "Stars           0.121476   0.008083  15.028  < 2e-16 ***\n",
       "Issues          0.616458   0.114057   5.405 8.06e-08 ***\n",
       "dummy_language -3.013388   1.454023  -2.072   0.0385 *  \n",
       "---\n",
       "Signif. codes:  0 ‘***’ 0.001 ‘**’ 0.01 ‘*’ 0.05 ‘.’ 0.1 ‘ ’ 1\n",
       "\n",
       "Residual standard error: 47.42 on 1027 degrees of freedom\n",
       "Multiple R-squared:  0.2227,\tAdjusted R-squared:  0.2205 \n",
       "F-statistic: 98.09 on 3 and 1027 DF,  p-value: < 2.2e-16\n"
      ]
     },
     "metadata": {},
     "output_type": "display_data"
    },
    {
     "data": {
      "text/plain": [
       "\n",
       "Call:\n",
       "lm(formula = Forks ~ Stars + Issues + dummy_language, data = test_data)\n",
       "\n",
       "Residuals:\n",
       "    Min      1Q  Median      3Q     Max \n",
       "-97.508 -31.168  -8.827  20.114 190.483 \n",
       "\n",
       "Coefficients:\n",
       "               Estimate Std. Error t value Pr(>|t|)    \n",
       "(Intercept)    33.68620    6.69601   5.031 7.14e-07 ***\n",
       "Stars           0.10486    0.01216   8.621  < 2e-16 ***\n",
       "Issues          0.65375    0.18404   3.552 0.000423 ***\n",
       "dummy_language -3.02783    2.31515  -1.308 0.191614    \n",
       "---\n",
       "Signif. codes:  0 ‘***’ 0.001 ‘**’ 0.01 ‘*’ 0.05 ‘.’ 0.1 ‘ ’ 1\n",
       "\n",
       "Residual standard error: 46.9 on 439 degrees of freedom\n",
       "Multiple R-squared:  0.1949,\tAdjusted R-squared:  0.1894 \n",
       "F-statistic: 35.43 on 3 and 439 DF,  p-value: < 2.2e-16\n"
      ]
     },
     "metadata": {},
     "output_type": "display_data"
    }
   ],
   "source": [
    "mlr_model_train <- lm(Forks ~ Stars + Issues + dummy_language, data = training_data)\n",
    "summary(mlr_model_train)\n",
    "\n",
    "mlr_model_test <- lm(Forks ~ Stars + Issues + dummy_language, data = test_data)\n",
    "summary(mlr_model_test)"
   ]
  },
  {
   "cell_type": "markdown",
   "id": "94b2ca0d-6548-4b05-af03-415d2e98ddab",
   "metadata": {},
   "source": [
    "#### Visualization (tidy table)"
   ]
  },
  {
   "cell_type": "code",
   "execution_count": 201,
   "id": "95723bb6-0459-46ce-98e0-b6eb10874ddd",
   "metadata": {
    "tags": []
   },
   "outputs": [
    {
     "data": {
      "text/html": [
       "<table class=\"dataframe\">\n",
       "<caption>A tibble: 4 × 5</caption>\n",
       "<thead>\n",
       "\t<tr><th scope=col>term</th><th scope=col>estimate</th><th scope=col>std.error</th><th scope=col>statistic</th><th scope=col>p.value</th></tr>\n",
       "\t<tr><th scope=col>&lt;chr&gt;</th><th scope=col>&lt;dbl&gt;</th><th scope=col>&lt;dbl&gt;</th><th scope=col>&lt;dbl&gt;</th><th scope=col>&lt;dbl&gt;</th></tr>\n",
       "</thead>\n",
       "<tbody>\n",
       "\t<tr><td>(Intercept)   </td><td>31.0207133</td><td>4.240456947</td><td> 7.315418</td><td>5.161904e-13</td></tr>\n",
       "\t<tr><td>Stars         </td><td> 0.1214763</td><td>0.008083309</td><td>15.028038</td><td>2.740832e-46</td></tr>\n",
       "\t<tr><td>Issues        </td><td> 0.6164582</td><td>0.114056632</td><td> 5.404843</td><td>8.064204e-08</td></tr>\n",
       "\t<tr><td>dummy_language</td><td>-3.0133875</td><td>1.454023292</td><td>-2.072448</td><td>3.847274e-02</td></tr>\n",
       "</tbody>\n",
       "</table>\n"
      ],
      "text/latex": [
       "A tibble: 4 × 5\n",
       "\\begin{tabular}{lllll}\n",
       " term & estimate & std.error & statistic & p.value\\\\\n",
       " <chr> & <dbl> & <dbl> & <dbl> & <dbl>\\\\\n",
       "\\hline\n",
       "\t (Intercept)    & 31.0207133 & 4.240456947 &  7.315418 & 5.161904e-13\\\\\n",
       "\t Stars          &  0.1214763 & 0.008083309 & 15.028038 & 2.740832e-46\\\\\n",
       "\t Issues         &  0.6164582 & 0.114056632 &  5.404843 & 8.064204e-08\\\\\n",
       "\t dummy\\_language & -3.0133875 & 1.454023292 & -2.072448 & 3.847274e-02\\\\\n",
       "\\end{tabular}\n"
      ],
      "text/markdown": [
       "\n",
       "A tibble: 4 × 5\n",
       "\n",
       "| term &lt;chr&gt; | estimate &lt;dbl&gt; | std.error &lt;dbl&gt; | statistic &lt;dbl&gt; | p.value &lt;dbl&gt; |\n",
       "|---|---|---|---|---|\n",
       "| (Intercept)    | 31.0207133 | 4.240456947 |  7.315418 | 5.161904e-13 |\n",
       "| Stars          |  0.1214763 | 0.008083309 | 15.028038 | 2.740832e-46 |\n",
       "| Issues         |  0.6164582 | 0.114056632 |  5.404843 | 8.064204e-08 |\n",
       "| dummy_language | -3.0133875 | 1.454023292 | -2.072448 | 3.847274e-02 |\n",
       "\n"
      ],
      "text/plain": [
       "  term           estimate   std.error   statistic p.value     \n",
       "1 (Intercept)    31.0207133 4.240456947  7.315418 5.161904e-13\n",
       "2 Stars           0.1214763 0.008083309 15.028038 2.740832e-46\n",
       "3 Issues          0.6164582 0.114056632  5.404843 8.064204e-08\n",
       "4 dummy_language -3.0133875 1.454023292 -2.072448 3.847274e-02"
      ]
     },
     "metadata": {},
     "output_type": "display_data"
    },
    {
     "data": {
      "text/html": [
       "<table class=\"dataframe\">\n",
       "<caption>A tibble: 4 × 5</caption>\n",
       "<thead>\n",
       "\t<tr><th scope=col>term</th><th scope=col>estimate</th><th scope=col>std.error</th><th scope=col>statistic</th><th scope=col>p.value</th></tr>\n",
       "\t<tr><th scope=col>&lt;chr&gt;</th><th scope=col>&lt;dbl&gt;</th><th scope=col>&lt;dbl&gt;</th><th scope=col>&lt;dbl&gt;</th><th scope=col>&lt;dbl&gt;</th></tr>\n",
       "</thead>\n",
       "<tbody>\n",
       "\t<tr><td>(Intercept)   </td><td>33.6861976</td><td>6.69601294</td><td> 5.030784</td><td>7.135238e-07</td></tr>\n",
       "\t<tr><td>Stars         </td><td> 0.1048560</td><td>0.01216279</td><td> 8.621047</td><td>1.215514e-16</td></tr>\n",
       "\t<tr><td>Issues        </td><td> 0.6537481</td><td>0.18403664</td><td> 3.552271</td><td>4.232729e-04</td></tr>\n",
       "\t<tr><td>dummy_language</td><td>-3.0278318</td><td>2.31514997</td><td>-1.307834</td><td>1.916141e-01</td></tr>\n",
       "</tbody>\n",
       "</table>\n"
      ],
      "text/latex": [
       "A tibble: 4 × 5\n",
       "\\begin{tabular}{lllll}\n",
       " term & estimate & std.error & statistic & p.value\\\\\n",
       " <chr> & <dbl> & <dbl> & <dbl> & <dbl>\\\\\n",
       "\\hline\n",
       "\t (Intercept)    & 33.6861976 & 6.69601294 &  5.030784 & 7.135238e-07\\\\\n",
       "\t Stars          &  0.1048560 & 0.01216279 &  8.621047 & 1.215514e-16\\\\\n",
       "\t Issues         &  0.6537481 & 0.18403664 &  3.552271 & 4.232729e-04\\\\\n",
       "\t dummy\\_language & -3.0278318 & 2.31514997 & -1.307834 & 1.916141e-01\\\\\n",
       "\\end{tabular}\n"
      ],
      "text/markdown": [
       "\n",
       "A tibble: 4 × 5\n",
       "\n",
       "| term &lt;chr&gt; | estimate &lt;dbl&gt; | std.error &lt;dbl&gt; | statistic &lt;dbl&gt; | p.value &lt;dbl&gt; |\n",
       "|---|---|---|---|---|\n",
       "| (Intercept)    | 33.6861976 | 6.69601294 |  5.030784 | 7.135238e-07 |\n",
       "| Stars          |  0.1048560 | 0.01216279 |  8.621047 | 1.215514e-16 |\n",
       "| Issues         |  0.6537481 | 0.18403664 |  3.552271 | 4.232729e-04 |\n",
       "| dummy_language | -3.0278318 | 2.31514997 | -1.307834 | 1.916141e-01 |\n",
       "\n"
      ],
      "text/plain": [
       "  term           estimate   std.error  statistic p.value     \n",
       "1 (Intercept)    33.6861976 6.69601294  5.030784 7.135238e-07\n",
       "2 Stars           0.1048560 0.01216279  8.621047 1.215514e-16\n",
       "3 Issues          0.6537481 0.18403664  3.552271 4.232729e-04\n",
       "4 dummy_language -3.0278318 2.31514997 -1.307834 1.916141e-01"
      ]
     },
     "metadata": {},
     "output_type": "display_data"
    }
   ],
   "source": [
    "tidy_mlr_train <- tidy(mlr_model_train)\n",
    "\n",
    "tidy_mlr_test <- tidy(mlr_model_test)\n",
    "\n",
    "tidy_mlr_train\n",
    "tidy_mlr_test"
   ]
  },
  {
   "cell_type": "markdown",
   "id": "94c5530c-e193-4585-b8f8-0a19500a801d",
   "metadata": {},
   "source": [
    "\n",
    "The resulting tidy table summaries (`tidy_mlr_train` & `tidy_mlr_test`) provide insights into the relationship between the predictor variables (`Stars`, `Issues`, `dummy_language`) and the response variable (`Forks`) in both the training and testing datasets. Both training and testing dataset show similar trends. The coefficients for `Stars` and `Issues` suggest that an increase in the number of stars or issues is associated with an increase in the number of forks. The coefficient for `dummy_language` is estimated to be -3.013, indicating a negative association with the number of forks, although its p-value for training and testing dataset suggests a less significant effect compared to the other predictors.\n"
   ]
  }
 ],
 "metadata": {
  "kernelspec": {
   "display_name": "R",
   "language": "R",
   "name": "ir"
  },
  "language_info": {
   "codemirror_mode": "r",
   "file_extension": ".r",
   "mimetype": "text/x-r-source",
   "name": "R",
   "pygments_lexer": "r",
   "version": "4.2.3"
  }
 },
 "nbformat": 4,
 "nbformat_minor": 5
}
