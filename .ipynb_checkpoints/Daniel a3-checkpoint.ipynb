{
 "cells": [
  {
   "cell_type": "markdown",
   "id": "5de97b2e-92af-4215-a693-dbab6541e470",
   "metadata": {
    "tags": []
   },
   "source": [
    "#### Brief Description of this dataset"
   ]
  },
  {
   "cell_type": "markdown",
   "id": "a0e55bc2-d013-4f96-8871-71aed75b8af9",
   "metadata": {},
   "source": [
    "> `Stars`, `Issues`, and `Language` is the explanatory variables and `Forks` is the response variable of this dataset.\n",
    ">* `Stars`: The number of stars or likes that the repository has received from other GitHub users, indicating its popularity or interest\n",
    ">* `Forks`: The number of times the repository has been forked by other GitHub users\n",
    ">* `Issues`: The total number of open issues (indicating bugs, feature requests, or discussions)\n",
    ">* `Language`: The primary programming language\n",
    ">\n",
    "> I cleaned and wrangled data to include only interested variables and excluded outliers.\n",
    ">\n",
    "> Then used pairwise scatterplots, heatmap, scatterplots, boxplots, and bar-charts to visualize the data. \n",
    "\n",
    " **Question**: This project will aim to explore the relationship between these variables. Specifically, I am going to investigate if the number of stars and issues within each programming language is related to the change in a number of repositories being forked."
   ]
  },
  {
   "cell_type": "markdown",
   "id": "3c4d934b-c0c1-4456-b106-6fa58f4e5720",
   "metadata": {},
   "source": [
    "## Methods "
   ]
  },
  {
   "cell_type": "markdown",
   "id": "642cc398-df02-42ca-b4de-5c7e83e344b6",
   "metadata": {},
   "source": [
    "### Multiple Linear Regression Analysis with Backward Selection "
   ]
  },
  {
   "cell_type": "markdown",
   "id": "da9de95f-6604-44b0-ad68-ba210ae9941d",
   "metadata": {},
   "source": [
    "* #### Why is this method appropriate?"
   ]
  },
  {
   "cell_type": "markdown",
   "id": "54654197-c39b-4307-89a6-b428cd586fb9",
   "metadata": {},
   "source": [
    "Multiple linear regression combined with backward selection would be an appropriate method for examining the relationship between the explanatory variables—`Stars`, `Issues`, and `Language`—and the response variable, `Forks`, in this dataset. This approach is well-suited for the analysis as it allows for the simultaneous assessment of the impact of multiple predictors on the response variable while systematically eliminating less relevant variables to obtain a more accurate model. \n",
    "\n",
    "Backward selection starts with a full model containing all potential predictors and iteratively removes variables that do not contribute significantly to improving model fit. By systematically reducing the model based on statistical criteria, backward selection helps identify the most important predictors while reducing the risk of overfitting and improving model interpretability. \n",
    "\n",
    "Additionally, multiple linear regression facilitates the examination of linear relationships between the predictors and the response variable, providing valuable insights into the underlying mechanisms driving the change in the number of repositories being forked within different programming languages. This methodological approach offers a structured and interpretable framework for exploring complex relationships in the data and deriving actionable insights.\n"
   ]
  },
  {
   "cell_type": "markdown",
   "id": "910e4b3a-8982-4355-9b1f-90aa2746c05d",
   "metadata": {
    "tags": []
   },
   "source": [
    "* #### Assumptions Required for Multiple Linear Regression"
   ]
  },
  {
   "cell_type": "markdown",
   "id": "06cea563-7871-45e3-b4d8-7c56a25cf731",
   "metadata": {},
   "source": [
    "To apply multiple linear regression with backward selection, certain assumptions must be met, including \n",
    "- **Linearity**: The relationship between explanatory variables and the response variable should be approximately linear.\n",
    "- **Independence of errors**:  The errors (residuals) from the regression model should be independent of each other. \n",
    "- **Homoscedasticity**:  The variance of the errors should be constant across all levels of the predictor variables. \n",
    "- **Normality of errors**: The errors should be normally distributed. \n",
    "- **No Multicollinearity**:  There should be no exact linear relationships among the predictor variables"
   ]
  },
  {
   "cell_type": "markdown",
   "id": "c8594615-8fc6-4df5-a519-9d82c7f6c01e",
   "metadata": {
    "tags": []
   },
   "source": [
    "* ####  Potential limitations or weaknesses"
   ]
  },
  {
   "cell_type": "markdown",
   "id": "cec03557-8552-4bbd-99fc-031d3ad2792c",
   "metadata": {},
   "source": [
    " **Underfitting** may occur if the backward selection process removes important predictor variables from the model then model would be too simple.  Moreover, if the **Assumptions of linear regression are violated**, the results might be biased, producing incorrect inferences, and less reliable."
   ]
  },
  {
   "cell_type": "markdown",
   "id": "f611cfd3-9a4b-4c80-aa72-04fae1b46fb4",
   "metadata": {
    "tags": []
   },
   "source": [
    "## Plan"
   ]
  },
  {
   "cell_type": "markdown",
   "id": "fc21ed70-5692-441e-b8e6-136ebd6fb3bb",
   "metadata": {},
   "source": [
    "**Data Preparation** \n",
    "- Use the data from assignment 2 that is already cleaned and wrangled. \n",
    "- Use dummy variable to represent categorical variable, `Language`."
   ]
  },
  {
   "cell_type": "markdown",
   "id": "c6ea570d-a122-4aff-bf2e-0a6b3f7149ac",
   "metadata": {},
   "source": [
    "**Model Building** \n",
    "- Split it into a training dataset and a testing dataset.\n",
    "- Perform multiple linear regression with backward selection:\n",
    "Start with a full model including all predictor variables (Stars, Issues, Language).\n",
    "Use a backward selection to remove non-significant variables based on p-values.\n",
    "\n"
   ]
  },
  {
   "cell_type": "markdown",
   "id": "ffa90490-ac9b-4fe9-b6c2-1538c8105886",
   "metadata": {},
   "source": [
    "**Model Selection**\n",
    "- Assess the overall fit of the model using using metric such as $R^2$\n",
    "  (coefficient of determination), adjusted $R^2$, and F-test.\n",
    "- Check for violations of MLR assumptions "
   ]
  },
  {
   "cell_type": "markdown",
   "id": "e805214d-fb02-4a46-bd0e-5bb07e2bf4e0",
   "metadata": {
    "tags": []
   },
   "source": [
    "**Interpretation**\n",
    "- Interpret the coefficients ($R^2$) of the model to understand the relationships between the predictors (`Stars`, `Issues`, `Language`) and the response variable (`Forks`).\n",
    "-  Add visualizations"
   ]
  },
  {
   "cell_type": "markdown",
   "id": "500fb284-4bbb-4c66-b313-022c339fd805",
   "metadata": {
    "tags": []
   },
   "source": [
    "**Assessment & Discussion**\n",
    "* Assess the overall model fit using metrics, adjusted $R^2$, to understand the variability in `Forks` of GitHub repositories.\n",
    "* Discuss the strength and limitations of the model by refering to the potential limitations of the chosen method."
   ]
  }
 ],
 "metadata": {
  "kernelspec": {
   "display_name": "R",
   "language": "R",
   "name": "ir"
  },
  "language_info": {
   "codemirror_mode": "r",
   "file_extension": ".r",
   "mimetype": "text/x-r-source",
   "name": "R",
   "pygments_lexer": "r",
   "version": "4.2.3"
  }
 },
 "nbformat": 4,
 "nbformat_minor": 5
}
